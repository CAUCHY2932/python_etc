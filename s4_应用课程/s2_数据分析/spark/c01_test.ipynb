{
  "cells": [
    {
      "cell_type": "code",
      "execution_count": 1,
      "metadata": {
        "collapsed": true,
        "pycharm": {
          "is_executing": false
        }
      },
      "outputs": [],
      "source": "import requests"
    },
    {
      "cell_type": "code",
      "execution_count": 2,
      "outputs": [],
      "source": "ret \u003d requests.get(\u0027https://www.baidu.com/\u0027)",
      "metadata": {
        "pycharm": {
          "metadata": false,
          "name": "#%%\n",
          "is_executing": false
        }
      }
    },
    {
      "cell_type": "code",
      "execution_count": 3,
      "outputs": [
        {
          "data": {
            "text/plain": "\u003cResponse [200]\u003e"
          },
          "metadata": {},
          "output_type": "execute_result",
          "execution_count": 3
        }
      ],
      "source": "ret",
      "metadata": {
        "pycharm": {
          "metadata": false,
          "name": "#%%\n",
          "is_executing": false
        }
      }
    },
    {
      "cell_type": "code",
      "execution_count": 4,
      "outputs": [
        {
          "data": {
            "text/plain": "\u0027\u003c!DOCTYPE html\u003e\\r\\n\u003c!--STATUS OK--\u003e\u003chtml\u003e \u003chead\u003e\u003cmeta http-equiv\u003dcontent-type content\u003dtext/html;charset\u003dutf-8\u003e\u003cmeta http-equiv\u003dX-UA-Compatible content\u003dIE\u003dEdge\u003e\u003cmeta content\u003dalways name\u003dreferrer\u003e\u003clink rel\u003dstylesheet type\u003dtext/css href\u003dhttps://ss1.bdstatic.com/5eN1bjq8AAUYm2zgoY3K/r/www/cache/bdorz/baidu.min.css\u003e\u003ctitle\u003eç\\x99¾åº¦ä¸\\x80ä¸\\x8bï¼\\x8cä½\\xa0å°±ç\\x9f¥é\\x81\\x93\u003c/title\u003e\u003c/head\u003e \u003cbody link\u003d#0000cc\u003e \u003cdiv id\u003dwrapper\u003e \u003cdiv id\u003dhead\u003e \u003cdiv class\u003dhead_wrapper\u003e \u003cdiv class\u003ds_form\u003e \u003cdiv class\u003ds_form_wrapper\u003e \u003cdiv id\u003dlg\u003e \u003cimg hidefocus\u003dtrue src\u003d//www.baidu.com/img/bd_logo1.png width\u003d270 height\u003d129\u003e \u003c/div\u003e \u003cform id\u003dform name\u003df action\u003d//www.baidu.com/s class\u003dfm\u003e \u003cinput type\u003dhidden name\u003dbdorz_come value\u003d1\u003e \u003cinput type\u003dhidden name\u003die value\u003dutf-8\u003e \u003cinput type\u003dhidden name\u003df value\u003d8\u003e \u003cinput type\u003dhidden name\u003drsv_bp value\u003d1\u003e \u003cinput type\u003dhidden name\u003drsv_idx value\u003d1\u003e \u003cinput type\u003dhidden name\u003dtn value\u003dbaidu\u003e\u003cspan class\u003d\"bg s_ipt_wr\"\u003e\u003cinput id\u003dkw name\u003dwd class\u003ds_ipt value maxlength\u003d255 autocomplete\u003doff autofocus\u003dautofocus\u003e\u003c/span\u003e\u003cspan class\u003d\"bg s_btn_wr\"\u003e\u003cinput type\u003dsubmit id\u003dsu value\u003dç\\x99¾åº¦ä¸\\x80ä¸\\x8b class\u003d\"bg s_btn\" autofocus\u003e\u003c/span\u003e \u003c/form\u003e \u003c/div\u003e \u003c/div\u003e \u003cdiv id\u003du1\u003e \u003ca href\u003dhttp://news.baidu.com name\u003dtj_trnews class\u003dmnav\u003eæ\\x96°é\\x97»\u003c/a\u003e \u003ca href\u003dhttps://www.hao123.com name\u003dtj_trhao123 class\u003dmnav\u003ehao123\u003c/a\u003e \u003ca href\u003dhttp://map.baidu.com name\u003dtj_trmap class\u003dmnav\u003eå\\x9c°å\\x9b¾\u003c/a\u003e \u003ca href\u003dhttp://v.baidu.com name\u003dtj_trvideo class\u003dmnav\u003eè§\\x86é¢\\x91\u003c/a\u003e \u003ca href\u003dhttp://tieba.baidu.com name\u003dtj_trtieba class\u003dmnav\u003eè´´å\\x90§\u003c/a\u003e \u003cnoscript\u003e \u003ca href\u003dhttp://www.baidu.com/bdorz/login.gif?login\u0026amp;tpl\u003dmn\u0026amp;u\u003dhttp%3A%2F%2Fwww.baidu.com%2f%3fbdorz_come%3d1 name\u003dtj_login class\u003dlb\u003eç\\x99»å½\\x95\u003c/a\u003e \u003c/noscript\u003e \u003cscript\u003edocument.write(\\\u0027\u003ca href\u003d\"http://www.baidu.com/bdorz/login.gif?login\u0026tpl\u003dmn\u0026u\u003d\\\u0027+ encodeURIComponent(window.location.href+ (window.location.search \u003d\u003d\u003d \"\" ? \"?\" : \"\u0026\")+ \"bdorz_come\u003d1\")+ \\\u0027\" name\u003d\"tj_login\" class\u003d\"lb\"\u003eç\\x99»å½\\x95\u003c/a\u003e\\\u0027);\\r\\n                \u003c/script\u003e \u003ca href\u003d//www.baidu.com/more/ name\u003dtj_briicon class\u003dbri style\u003d\"display: block;\"\u003eæ\\x9b´å¤\\x9aäº§å\\x93\\x81\u003c/a\u003e \u003c/div\u003e \u003c/div\u003e \u003c/div\u003e \u003cdiv id\u003dftCon\u003e \u003cdiv id\u003dftConw\u003e \u003cp id\u003dlh\u003e \u003ca href\u003dhttp://home.baidu.com\u003eå\\x85³äº\\x8eç\\x99¾åº¦\u003c/a\u003e \u003ca href\u003dhttp://ir.baidu.com\u003eAbout Baidu\u003c/a\u003e \u003c/p\u003e \u003cp id\u003dcp\u003e\u0026copy;2017\u0026nbsp;Baidu\u0026nbsp;\u003ca href\u003dhttp://www.baidu.com/duty/\u003eä½¿ç\\x94¨ç\\x99¾åº¦å\\x89\\x8då¿\\x85è¯»\u003c/a\u003e\u0026nbsp; \u003ca href\u003dhttp://jianyi.baidu.com/ class\u003dcp-feedback\u003eæ\\x84\\x8fè§\\x81å\\x8f\\x8dé¦\\x88\u003c/a\u003e\u0026nbsp;äº¬ICPè¯\\x81030173å\\x8f·\u0026nbsp; \u003cimg src\u003d//www.baidu.com/img/gs.gif\u003e \u003c/p\u003e \u003c/div\u003e \u003c/div\u003e \u003c/div\u003e \u003c/body\u003e \u003c/html\u003e\\r\\n\u0027"
          },
          "metadata": {},
          "output_type": "execute_result",
          "execution_count": 4
        }
      ],
      "source": "ret.text",
      "metadata": {
        "pycharm": {
          "metadata": false,
          "name": "#%%\n",
          "is_executing": false
        }
      }
    },
    {
      "cell_type": "code",
      "execution_count": null,
      "outputs": [],
      "source": "\n",
      "metadata": {
        "pycharm": {
          "metadata": false,
          "name": "#%%\n"
        }
      }
    }
  ],
  "metadata": {
    "language_info": {
      "codemirror_mode": {
        "name": "ipython",
        "version": 2
      },
      "file_extension": ".py",
      "mimetype": "text/x-python",
      "name": "python",
      "nbconvert_exporter": "python",
      "pygments_lexer": "ipython2",
      "version": "2.7.6"
    },
    "kernelspec": {
      "name": "python3",
      "language": "python",
      "display_name": "Python 3"
    }
  },
  "nbformat": 4,
  "nbformat_minor": 0
}