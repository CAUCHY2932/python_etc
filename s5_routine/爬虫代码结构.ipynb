{
 "cells": [
  {
   "cell_type": "markdown",
   "metadata": {},
   "source": [
    "## 爬虫代码"
   ]
  },
  {
   "cell_type": "markdown",
   "metadata": {},
   "source": [
    "### 爬虫教程代码结构"
   ]
  },
  {
   "cell_type": "code",
   "execution_count": null,
   "metadata": {},
   "outputs": [],
   "source": [
    ".\n",
    "└── v1_pengfu\n",
    "    ├── 223.txt\n",
    "    ├── configer.py\n",
    "    ├── extracer.py\n",
    "    ├── holder.py\n",
    "    ├── laoer.py\n",
    "    ├── learner.py\n",
    "    ├── parser.py\n",
    "    └── penger.py\n",
    "\n",
    "1 directory, 8 files"
   ]
  },
  {
   "cell_type": "markdown",
   "metadata": {},
   "source": [
    "### config.py"
   ]
  },
  {
   "cell_type": "code",
   "execution_count": null,
   "metadata": {},
   "outputs": [],
   "source": [
    "# -*- coding:utf-8 -*-\n",
    "\"\"\"\n",
    "create by young on 2019-03-11 22:12 \n",
    "\"\"\"\n",
    "\n",
    "__author__ = 'young'\n",
    "\n",
    "\n",
    "HEADERS={\n",
    "    'User-Agent': 'Mozilla/5.0 (Macintosh; Intel Mac OS X 10_13_4) AppleWebKit/537.36 (KHTML, like Gecko) Chrome/71.0.3578.98 Safari/537.36'\n",
    "}\n"
   ]
  },
  {
   "cell_type": "markdown",
   "metadata": {},
   "source": [
    "### extracer.py"
   ]
  },
  {
   "cell_type": "code",
   "execution_count": null,
   "metadata": {},
   "outputs": [],
   "source": [
    "# -*- coding:utf-8 -*-\n",
    "\"\"\"\n",
    "create by young on 2019-03-11 22:09 \n",
    "\"\"\"\n",
    "\n",
    "__author__ = 'young'\n",
    "\n",
    "\n",
    "def extrace_html(html_obj):\n",
    "    \"\"\"\n",
    "    :parameter HTML obj\n",
    "    :return: extrace obj\n",
    "    \"\"\"\n",
    "    # ret = html_obj.xpath('/html/body/div[1]/div[1]/div[1]/dl/dd/div[2]/text()')\n",
    "    ret = html_obj.xpath('//div[@class=\"content-img clearfix pt10 relative\"]/text()')\n",
    "    if ret and len(ret)!=0:\n",
    "        # ret_val = ret[0]\n",
    "        return [item.strip() for item in ret]\n",
    "    return None\n"
   ]
  },
  {
   "cell_type": "markdown",
   "metadata": {},
   "source": [
    "### holder.py"
   ]
  },
  {
   "cell_type": "code",
   "execution_count": null,
   "metadata": {},
   "outputs": [],
   "source": [
    "# -*- coding:utf-8 -*-\n",
    "\"\"\"\n",
    "create by young on 2019-03-11 22:09 \n",
    "\"\"\"\n",
    "\n",
    "__author__ = 'young'\n",
    "\n",
    "\n",
    "def holder_text(text, file_name):\n",
    "    \"\"\"\n",
    "    :param text:\n",
    "    :return: None\n",
    "    \"\"\"\n",
    "    with open(file_name, 'a') as f:\n",
    "        f.write(text)\n",
    "    return None\n"
   ]
  },
  {
   "cell_type": "markdown",
   "metadata": {},
   "source": [
    "### laoer.py"
   ]
  },
  {
   "cell_type": "code",
   "execution_count": null,
   "metadata": {},
   "outputs": [],
   "source": [
    "# -*- coding:utf-8 -*-\n",
    "\"\"\"\n",
    "create by young on 2019-03-11 22:22 \n",
    "\"\"\"\n",
    "from chapter2_advance.v1_pengfu import penger, parser, extracer, holder\n",
    "\n",
    "__author__ = 'young'\n",
    "\n",
    "if __name__ == \"__main__\":\n",
    "    url = 'http://www.pengfue.com/'\n",
    "    ret = penger.get_page_source(url=url)\n",
    "    ret= parser.parser_text(ret)\n",
    "    ret = extracer.extrace_html(ret)\n",
    "    for item in ret:\n",
    "        # print(item)\n",
    "        # print(type(item))\n",
    "        holder.holder_text(item+'\\n', file_name='./223.txt')\n",
    "        print('something has been write to the file.txt!')\n",
    "        # print('-'*90)\n",
    "    # print(ret)\n"
   ]
  },
  {
   "cell_type": "markdown",
   "metadata": {},
   "source": [
    "### leaner.py"
   ]
  },
  {
   "cell_type": "code",
   "execution_count": null,
   "metadata": {},
   "outputs": [],
   "source": [
    "# -*- coding:utf-8 -*-\n",
    "\"\"\"\n",
    "create by young on 2019-03-11 22:55 \n",
    "\"\"\"\n",
    "\n",
    "__author__ = 'young'\n",
    "\n",
    "\n",
    "\n",
    "def funcer(parameter):\n",
    "    print(parameter)\n",
    "\n",
    "\n",
    "\n",
    "funcer('hello world')\n",
    "\n"
   ]
  },
  {
   "cell_type": "markdown",
   "metadata": {},
   "source": [
    "### parser.py"
   ]
  },
  {
   "cell_type": "code",
   "execution_count": null,
   "metadata": {},
   "outputs": [],
   "source": [
    "# -*- coding:utf-8 -*-\n",
    "\"\"\"\n",
    "create by young on 2019-03-11 22:08 \n",
    "\"\"\"\n",
    "\n",
    "__author__ = 'young'\n",
    "\n",
    "from lxml import etree\n",
    "\n",
    "\n",
    "def parser_text(html):\n",
    "    \"\"\"\n",
    "    :parameter html obj\n",
    "    :return: parsed obj\n",
    "    \"\"\"\n",
    "    ret = etree.HTML(html)\n",
    "    return ret\n"
   ]
  },
  {
   "cell_type": "markdown",
   "metadata": {},
   "source": [
    "### penger.py"
   ]
  },
  {
   "cell_type": "code",
   "execution_count": null,
   "metadata": {},
   "outputs": [],
   "source": [
    "# -*- coding:utf-8 -*-\n",
    "\"\"\"\n",
    "create by young on 2019-03-11 22:08 \n",
    "\"\"\"\n",
    "from chapter2_advance.v1_pengfu import configer\n",
    "# import chapter2_advance.v1_pengfu.configer\n",
    "__author__ = 'young'\n",
    "\n",
    "import requests\n",
    "\n",
    "\n",
    "# from . import configer\n",
    "\n",
    "# 复用，抽象\n",
    "# 获取源代码\n",
    "def get_page_source(url):\n",
    "    \"\"\"\n",
    "    :parameter url\n",
    "    :return: obj\n",
    "    \"\"\"\n",
    "    resp = requests.get(url=url, headers=configer.HEADERS)\n",
    "    if resp.status_code == 200:\n",
    "        resp.encoding = resp.apparent_encoding\n",
    "        return resp.text\n"
   ]
  },
  {
   "cell_type": "markdown",
   "metadata": {},
   "source": [
    "### 223.txt"
   ]
  },
  {
   "cell_type": "code",
   "execution_count": null,
   "metadata": {},
   "outputs": [],
   "source": [
    "公交车上来了一位提着篮子去买菜的大妈。一位小伙子立刻给她让了个坐。大妈笑着说:小伙今年多大了？小伙说:28了。大妈说，28还挤么公交车呀？我姑娘22岁就买车了。这位大妈不但没对小伙的让坐表示感谢，反而有意嘲讽他28岁还无力买车，你看我姑娘多能耐，22岁就买车了。按理说，小伙做好没讨好，反而被大妈看轻，有些恼怒是肯定的了，但他没有发火，也没有讪讪地走开，而是不卑不亢地说:我也攒钱买了个车，但我送给了我妈，我总不能要她这么大的年纪还挤公交车买菜吧？\n",
    "一老头乘公交去高潮村办事。途中问女服务员:高潮到了没？女服务员说:还没呢。一会儿他又问:高潮到了没？服务员说:糟老头急什么，高潮到了我会叫的！\n",
    "刚刚在网易看新闻的时候（新闻标题如题）看到有这么一条评论，：知道降落伞与安全套区别是什么吗？答案：降落伞破了，世界上将减少一个人；如果安全套破了，世界上将增加一个人！安全套测试很有必要！\n",
    "女：你喜欢我吗？男：喜欢啊！女：为什么？男：因为你是唯一一个在我脱鞋之后没有晕倒的女生！女：那你自己为什么不晕？男：我有鼻炎。女：怎么得的啊？男：自己脚熏的！\n",
    "男人说：你到底想我怎么样？可不可以不要再无理取闹？女人说：无理取闹，是，是我无理取闹，你作为一个男人，说声对不起不行吗，你跟我说声对不起不就完了吗！男人说：对不起。女人说：你以为说一句对不起就完了吗！\n",
    "劫匪：“给我一个不杀你的理由。” 我：“不给。” 劫匪：“你。。。你这人怎么这样？”\n",
    "上学时和一个同学翻墙出去网吧，被门卫大爷抓住了，要记下名字通知班主任，我胆颤的写了聂风，那货居然写了步惊云。。。 我绝望的看了看大爷，他愣了愣，说，聂风回去，步惊云留下！ 我活了大半辈子，没见过姓步的，想骗我！？\n"
   ]
  },
  {
   "cell_type": "code",
   "execution_count": null,
   "metadata": {},
   "outputs": [],
   "source": []
  }
 ],
 "metadata": {
  "kernelspec": {
   "display_name": "Python 3",
   "language": "python",
   "name": "python3"
  },
  "language_info": {
   "codemirror_mode": {
    "name": "ipython",
    "version": 3
   },
   "file_extension": ".py",
   "mimetype": "text/x-python",
   "name": "python",
   "nbconvert_exporter": "python",
   "pygments_lexer": "ipython3",
   "version": "3.7.0"
  }
 },
 "nbformat": 4,
 "nbformat_minor": 2
}
