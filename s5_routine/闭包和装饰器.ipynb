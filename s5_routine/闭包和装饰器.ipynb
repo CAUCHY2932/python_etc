{
 "cells": [
  {
   "cell_type": "markdown",
   "metadata": {},
   "source": [
    "## 闭包"
   ]
  },
  {
   "cell_type": "code",
   "execution_count": null,
   "metadata": {},
   "outputs": [],
   "source": [
    "origin=0\n",
    "\n",
    "def go(step):\n",
    "    new_pos=origin+step\n",
    "    # origin=new_pos\n",
    "    return origin\n",
    "# 如果不重新赋值给外部变量，会被认为是闭包，否则会认为是局部变量，而局部变量是需要初始化的\n",
    "# 如果变量出现在等号又被\n",
    "print(go(6))\n",
    "print(go(4))\n",
    "print(go(9))\n"
   ]
  },
  {
   "cell_type": "markdown",
   "metadata": {},
   "source": [
    "## 装饰器"
   ]
  },
  {
   "cell_type": "code",
   "execution_count": null,
   "metadata": {},
   "outputs": [],
   "source": [
    "def curve_pre():\n",
    "    def curve():\n",
    "        return 'nihao'\n",
    "    return curve\n",
    "\n",
    "\n",
    "a = curve_pre()()\n",
    "print(a)"
   ]
  }
 ],
 "metadata": {
  "kernelspec": {
   "display_name": "Python 3",
   "language": "python",
   "name": "python3"
  },
  "language_info": {
   "codemirror_mode": {
    "name": "ipython",
    "version": 3
   },
   "file_extension": ".py",
   "mimetype": "text/x-python",
   "name": "python",
   "nbconvert_exporter": "python",
   "pygments_lexer": "ipython3",
   "version": "3.7.0"
  }
 },
 "nbformat": 4,
 "nbformat_minor": 2
}
