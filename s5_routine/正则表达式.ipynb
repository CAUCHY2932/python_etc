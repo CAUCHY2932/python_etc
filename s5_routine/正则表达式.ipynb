{
 "cells": [
  {
   "cell_type": "markdown",
   "metadata": {},
   "source": [
    "## 正则表达式"
   ]
  },
  {
   "cell_type": "code",
   "execution_count": null,
   "metadata": {},
   "outputs": [],
   "source": [
    "# -*- coding:utf-8 -*-\n",
    "\"\"\"\n",
    "    :author: young\n",
    "    :DATE: 2019/5/16 15:10\n",
    "    :copyright: © 2019 young <haochen2932@foxmail.com>\n",
    "    :license: None, see LICENSE for more details.\n",
    "\"\"\"\n",
    "import re\n",
    "# {1, 8}\n",
    "# pattern = re.compile(r'\\d{1,4}')\n",
    "#\n",
    "# str_demo = 'sdkfjslj9879lkjg34we'\n",
    "#\n",
    "# ret = re.search(pattern, str_demo)\n",
    "# print(ret)\n",
    "# 匹配版本号\n",
    "\n",
    "import re\n",
    "ver_num = '[1-9]\\d{1,3}([.][1-9]\\d{1,3}){1,2}'\n",
    "# 什么时候加r，什么时候不加r\n",
    "# 尽量不加r\n",
    "\n",
    "\n",
    "lst_ver_num = ['89.89.05',\n",
    "               '90.556.67',\n",
    "               '56.4m.78']\n",
    "\n",
    "for item in lst_ver_num:\n",
    "    match = re.search(ver_num, item)\n",
    "    if match is not None:\n",
    "        print('have match {}'.format(match.group()))\n",
    "\n",
    "# re.sub\n",
    "\n"
   ]
  }
 ],
 "metadata": {
  "kernelspec": {
   "display_name": "Python 3",
   "language": "python",
   "name": "python3"
  },
  "language_info": {
   "codemirror_mode": {
    "name": "ipython",
    "version": 3
   },
   "file_extension": ".py",
   "mimetype": "text/x-python",
   "name": "python",
   "nbconvert_exporter": "python",
   "pygments_lexer": "ipython3",
   "version": "3.7.0"
  }
 },
 "nbformat": 4,
 "nbformat_minor": 2
}
