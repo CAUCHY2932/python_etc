{
 "cells": [
  {
   "cell_type": "markdown",
   "metadata": {},
   "source": [
    "## 面向函数编程"
   ]
  },
  {
   "cell_type": "code",
   "execution_count": null,
   "metadata": {},
   "outputs": [],
   "source": [
    "# coding=utf8\n",
    "\n",
    "def log(func):\n",
    "    def wrapper(*args, **kwargs):\n",
    "        print('call %s():'%func.__name__)\n",
    "        return func(*args, **kwargs)\n",
    "    return wrapper\n",
    "\n",
    "\n",
    "# def log2(func):\n",
    "#     def wrapper(*args, **kwargs):\n",
    "#         print('niaho%s:'%func.__name__)\n",
    "#         return func(*args, **kwargs)\n",
    "#     return warpper\n",
    "\n",
    "@log\n",
    "def now():\n",
    "    print('now')\n",
    "\n",
    "now()"
   ]
  },
  {
   "cell_type": "code",
   "execution_count": null,
   "metadata": {},
   "outputs": [],
   "source": [
    "# coding=utf8\n",
    "\n",
    "import functools\n",
    "\n",
    "# a=int('20', base=8)\n",
    "# print(a)\n",
    "\n",
    "def int2(x,base=2):\n",
    "    return int(x,base)\n",
    "\n",
    "print(int2('10001010'))\n",
    "\n",
    "\n",
    "\n",
    "\n",
    "# 偏函数\n",
    "\n",
    "int8=functools.partial(int,base=8)\n",
    "\n",
    "transferTo8=int8('132421432')\n",
    "print(transferTo8)"
   ]
  },
  {
   "cell_type": "markdown",
   "metadata": {},
   "source": [
    "## 利用filter生成素数"
   ]
  },
  {
   "cell_type": "code",
   "execution_count": null,
   "metadata": {},
   "outputs": [],
   "source": [
    "# coding=utf8\n",
    "\n",
    "# 构造一个从3开始的奇数序列\n",
    "def _odd_iter():\n",
    "    n=1\n",
    "    while True:\n",
    "        n=n+2\n",
    "        yield\n",
    "\n",
    "# lst_odd=(x for i in )\n",
    "\n",
    "def _not_divisible(n):\n",
    "    return lambda x: x % n > 0\n",
    "\n",
    "\n",
    "def primes():\n",
    "    yield 2\n",
    "    it= _odd_iter()\n",
    "    while True:\n",
    "        n=next(it)\n",
    "        yield n\n",
    "        it = filter(_not_divisible(n), it)\n",
    "# 打印1000以内的素数\n",
    "\n",
    "for n in primes():\n",
    "    if n<1000:\n",
    "        print(n)\n",
    "    else:\n",
    "        break"
   ]
  },
  {
   "cell_type": "markdown",
   "metadata": {},
   "source": [
    "## 匿名函数"
   ]
  },
  {
   "cell_type": "code",
   "execution_count": null,
   "metadata": {},
   "outputs": [],
   "source": [
    "# coding=utf8\n",
    "\n",
    "func=lambda x,y:x+y\n",
    "print(func(1,2))"
   ]
  },
  {
   "cell_type": "markdown",
   "metadata": {},
   "source": [
    "## 装饰器"
   ]
  },
  {
   "cell_type": "code",
   "execution_count": null,
   "metadata": {},
   "outputs": [],
   "source": [
    "# -*-coding:utf-8-*-\n",
    "\n",
    "# 20181005\n",
    "\n",
    "# 测试输入一个函数并调用\n",
    "def now():\n",
    "    from datetime import datetime\n",
    "    now=datetime.now()\n",
    "    print(now)\n",
    "\n",
    "f=now\n",
    "f()\n",
    "\n",
    "\n"
   ]
  },
  {
   "cell_type": "markdown",
   "metadata": {},
   "source": [
    "## filter函数"
   ]
  },
  {
   "cell_type": "code",
   "execution_count": null,
   "metadata": {},
   "outputs": [],
   "source": [
    "# coding=utf8\n",
    "\n",
    "def is_odd(n):\n",
    "    return n%2==1\n",
    "\n",
    "print(list(filter(is_odd,[1,2,3,4,5,6,7,8,9])))\n",
    "\n",
    "# 删除一个序列中的空字符串\n",
    "def not_empty(s):\n",
    "    return s and s.strip()\n",
    "\n",
    "print(list(filter(not_empty,['A','bedf','sdf fefw','2345',None,'  '])))"
   ]
  },
  {
   "cell_type": "markdown",
   "metadata": {},
   "source": [
    "## map函数"
   ]
  },
  {
   "cell_type": "code",
   "execution_count": null,
   "metadata": {},
   "outputs": [],
   "source": [
    "# coding=utf8\n",
    "from functools import reduce\n",
    "def f(x):\n",
    "    return x*x\n",
    "\n",
    "r=map(f,[1,2,3,4,5,6])\n",
    "print(r)\n",
    "\n",
    "for item in r:\n",
    "    print(item)\n",
    "\n",
    "\n",
    "def add(x,y):\n",
    "    return x+y\n",
    "\n",
    "\n",
    "retVal=reduce(add,[1,2,3,4,5])\n",
    "print(retVal)\n",
    "print(sum([1,2,3,4,5]))"
   ]
  },
  {
   "cell_type": "code",
   "execution_count": null,
   "metadata": {},
   "outputs": [],
   "source": []
  }
 ],
 "metadata": {
  "kernelspec": {
   "display_name": "Python 3",
   "language": "python",
   "name": "python3"
  },
  "language_info": {
   "codemirror_mode": {
    "name": "ipython",
    "version": 3
   },
   "file_extension": ".py",
   "mimetype": "text/x-python",
   "name": "python",
   "nbconvert_exporter": "python",
   "pygments_lexer": "ipython3",
   "version": "3.7.0"
  }
 },
 "nbformat": 4,
 "nbformat_minor": 2
}
