{
 "cells": [
  {
   "cell_type": "markdown",
   "metadata": {},
   "source": [
    "## 爬虫教程"
   ]
  },
  {
   "cell_type": "code",
   "execution_count": null,
   "metadata": {},
   "outputs": [],
   "source": [
    "# -*- coding:utf-8 -*-\n",
    "\"\"\"\n",
    "create by young on 2019-03-11 21:48 \n",
    "\"\"\"\n",
    "\n",
    "__author__ = 'young'\n",
    "\n",
    "import requests\n",
    "\n",
    "url = 'http://www.baidu.com/'\n",
    "headers={\n",
    "    'User-Agent': 'Mozilla/5.0 (Macintosh; Intel Mac OS X 10_13_4) AppleWebKit/537.36 (KHTML, like Gecko) Chrome/71.0.3578.98 Safari/537.36'\n",
    "}\n",
    "resp = requests.get(url=url, headers=headers)\n",
    "\n",
    "# print(resp)\n",
    "#\n",
    "# print(resp.status_code==200)\n",
    "\n",
    "if resp.status_code==200:\n",
    "    # resp.encoding='utf-8'\n",
    "    resp.encoding=resp.apparent_encoding\n",
    "    # print('请求成功')\n",
    "    print(resp.text)\n",
    "\n",
    "\n"
   ]
  }
 ],
 "metadata": {
  "kernelspec": {
   "display_name": "Python 3",
   "language": "python",
   "name": "python3"
  },
  "language_info": {
   "codemirror_mode": {
    "name": "ipython",
    "version": 3
   },
   "file_extension": ".py",
   "mimetype": "text/x-python",
   "name": "python",
   "nbconvert_exporter": "python",
   "pygments_lexer": "ipython3",
   "version": "3.7.0"
  }
 },
 "nbformat": 4,
 "nbformat_minor": 2
}