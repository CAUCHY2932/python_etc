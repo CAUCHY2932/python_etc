{
 "cells": [
  {
   "cell_type": "markdown",
   "metadata": {},
   "source": [
    "# pyecharts\n",
    "* 官方文档"
   ]
  },
  {
   "cell_type": "raw",
   "metadata": {},
   "source": [
    "http://pyecharts.org/#/zh-cn/prepare"
   ]
  },
  {
   "cell_type": "raw",
   "metadata": {},
   "source": [
    "https://pypi.org/project/pyecharts/0.3.1/\n",
    "到这里下载whl文件"
   ]
  },
  {
   "cell_type": "markdown",
   "metadata": {},
   "source": [
    "## pyecharts地图显示不全或只显示南海诸岛问题解决"
   ]
  },
  {
   "cell_type": "raw",
   "metadata": {},
   "source": [
    "官网给的解释如下：\n",
    "\n",
    "自从 0.3.2 开始，为了缩减项目本身的体积以及维持 pyecharts 项目的轻量化运行，pyecharts 将不再自带地图 js 文件。如用户需要用到地图图表，可自行安装对应的地图文件包。下面介绍如何安装。"
   ]
  },
  {
   "cell_type": "raw",
   "metadata": {},
   "source": [
    "    全球国家地图: echarts-countries-pypkg (1.9MB): 世界地图和 213 个国家，包括中国地图\n",
    "    中国省级地图: echarts-china-provinces-pypkg (730KB)：23 个省，5 个自治区\n",
    "    中国市级地图: echarts-china-cities-pypkg (3.8MB)：370 个中国城市"
   ]
  },
  {
   "cell_type": "raw",
   "metadata": {},
   "source": [
    "\n",
    "需要这些地图的朋友，可以装 pip 命令行:\n",
    "\n",
    "    pip install echarts-countries-pypkg\n",
    "    pip install echarts-china-provinces-pypkg\n",
    "    pip install echarts-china-cities-pypkg"
   ]
  },
  {
   "cell_type": "raw",
   "metadata": {},
   "source": [
    "特别注明，中国地图在 echarts-countries-pypkg 里。"
   ]
  },
  {
   "cell_type": "code",
   "execution_count": null,
   "metadata": {},
   "outputs": [],
   "source": []
  }
 ],
 "metadata": {
  "kernelspec": {
   "display_name": "Python 3",
   "language": "python",
   "name": "python3"
  },
  "language_info": {
   "codemirror_mode": {
    "name": "ipython",
    "version": 3
   },
   "file_extension": ".py",
   "mimetype": "text/x-python",
   "name": "python",
   "nbconvert_exporter": "python",
   "pygments_lexer": "ipython3",
   "version": "3.6.5"
  }
 },
 "nbformat": 4,
 "nbformat_minor": 2
}
