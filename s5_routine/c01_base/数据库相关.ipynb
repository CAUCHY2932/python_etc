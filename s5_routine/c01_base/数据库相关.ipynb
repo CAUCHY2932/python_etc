{
 "cells": [
  {
   "cell_type": "markdown",
   "metadata": {},
   "source": [
    "# 数据库导入导出csv文件"
   ]
  },
  {
   "cell_type": "raw",
   "metadata": {},
   "source": [
    "load data infile 'F:/MySqlData/test1.csv' --CSV文件存放路径\n",
    "into table student character set gb2312 --要将数据导入的表名\n",
    "fields terminated by ',' optionally enclosed by '\"' escaped by '\"'\n",
    "lines terminated by '\\r\\n';"
   ]
  },
  {
   "cell_type": "markdown",
   "metadata": {},
   "source": [
    "* ERROR 1290 (HY000): The MySQL server is running with the --secure-file-priv option so it cannot execute this statement\n",
    "    * 解决方法"
   ]
  },
  {
   "cell_type": "raw",
   "metadata": {},
   "source": [
    "show variables like '%secure%';"
   ]
  },
  {
   "cell_type": "raw",
   "metadata": {},
   "source": [
    "+--------------------------+-----------------------+\n",
    "| Variable_name            | Value                 |\n",
    "+--------------------------+-----------------------+\n",
    "| require_secure_transport | OFF                   |\n",
    "| secure_auth              | ON                    |\n",
    "| secure_file_priv         | /var/lib/mysql-files/ |\n",
    "+--------------------------+-----------------------+\n",
    "3 rows in set (0.01 sec)\n"
   ]
  },
  {
   "cell_type": "markdown",
   "metadata": {},
   "source": [
    "* 这样将导入文件放在 /var/lib/mysql-files/文件夹下，之后再从这里导入就可以了\n",
    "\n",
    "* 导出文件时候，也是将 文件导出到这个文件夹里。"
   ]
  },
  {
   "cell_type": "raw",
   "metadata": {},
   "source": [
    "load data infile '/var/lib/mysql-files/part.csv' \n",
    "into table PART \n",
    "fields terminated by ','  \n",
    "optionally enclosed by '\"' \n",
    "escaped by '\"' \n",
    "lines terminated by '\\r\\n';"
   ]
  },
  {
   "cell_type": "raw",
   "metadata": {},
   "source": [
    "如果显示ERROR 1261 (01000): Row 1 doesn't contain data for all columns\n",
    "这个错误，是因为数据行不匹配，默认不能有空，用下列命令解决set sql_modul = 0;"
   ]
  },
  {
   "cell_type": "markdown",
   "metadata": {},
   "source": [
    "# 有效的导入策略"
   ]
  },
  {
   "cell_type": "raw",
   "metadata": {},
   "source": [
    "load data infile '/var/lib/mysql-files/sicuan92.csv' \n",
    "into table sc\n",
    "fields terminated by ','  \n",
    "optionally enclosed by '\"' \n",
    "escaped by '\"' \n",
    "lines terminated by '\\r\\n';"
   ]
  },
  {
   "cell_type": "markdown",
   "metadata": {},
   "source": [
    "# 建表语句"
   ]
  },
  {
   "cell_type": "raw",
   "metadata": {},
   "source": [
    "create table sc(\n",
    "    ord varchar(10) not null primary key,\n",
    "    addr varchar(50) not null,\n",
    "    firm_name varchar(70) not null,\n",
    "    auth_num varchar(70) not null,\n",
    "    legal_p varchar(15) not null\n",
    ");\n"
   ]
  },
  {
   "cell_type": "code",
   "execution_count": null,
   "metadata": {},
   "outputs": [],
   "source": []
  }
 ],
 "metadata": {
  "kernelspec": {
   "display_name": "Python 3",
   "language": "python",
   "name": "python3"
  },
  "language_info": {
   "codemirror_mode": {
    "name": "ipython",
    "version": 3
   },
   "file_extension": ".py",
   "mimetype": "text/x-python",
   "name": "python",
   "nbconvert_exporter": "python",
   "pygments_lexer": "ipython3",
   "version": "3.6.5"
  }
 },
 "nbformat": 4,
 "nbformat_minor": 2
}
