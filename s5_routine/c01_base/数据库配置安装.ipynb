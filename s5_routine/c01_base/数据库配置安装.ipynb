{
 "cells": [
  {
   "cell_type": "markdown",
   "metadata": {},
   "source": [
    "# mongoDB 安装教程"
   ]
  },
  {
   "cell_type": "markdown",
   "metadata": {},
   "source": [
    "* sudo apt-get install mongodb"
   ]
  },
  {
   "cell_type": "markdown",
   "metadata": {},
   "source": [
    "* mongod"
   ]
  },
  {
   "cell_type": "markdown",
   "metadata": {},
   "source": [
    "* mongo"
   ]
  },
  {
   "cell_type": "markdown",
   "metadata": {},
   "source": [
    "* mongo\n",
    "    * 进入mongo的命令行交互模式\n",
    "    * show dbs\n",
    "    * use local\n",
    "        * 切换到某数据库\n",
    "    * db.test.insert({'a':'b'})\n",
    "        * 插入数据\n",
    "    * contral + c\n",
    "        * 退出"
   ]
  },
  {
   "cell_type": "markdown",
   "metadata": {},
   "source": [
    "* tar -xzf robomongo-0.9.0-linux-x86_64-0786489.tar.gz\n",
    "* cd robomongo-0.9.0-linux-x86_64-0786489 (如果移动到其他目录，请加上相应的目录。)\n",
    "* cd bin\n",
    "* ./robo3T\n",
    "* 创建快捷方式\n",
    "    * 进入安装目录，找到robomongo可执行文件，首先按住左键把它拖到桌面先不放开，然后按下Alt，此时出现一个菜单，选择“链接到此处”，松开之后就在桌面上创建好快捷方式。"
   ]
  },
  {
   "cell_type": "markdown",
   "metadata": {},
   "source": [
    "# mysql安装与配置"
   ]
  },
  {
   "cell_type": "markdown",
   "metadata": {},
   "source": [
    "* sudo su\n",
    "    * 切换到超级用户\n",
    "* sudo apt-get install mysql-server mysql-client\n",
    "    * 安装mysql\n",
    "* mysql -uroot -p\n",
    "    * 进入数据库\n",
    "* show databases;\n",
    "* use mysql;\n",
    "* select * from db;\n",
    "* show tables;\n",
    "* desc table;"
   ]
  },
  {
   "cell_type": "markdown",
   "metadata": {},
   "source": [
    "* sudo apt-get install mysql-workbench\n"
   ]
  },
  {
   "cell_type": "markdown",
   "metadata": {},
   "source": [
    "# 有关数据库错误的问题\n"
   ]
  },
  {
   "cell_type": "markdown",
   "metadata": {},
   "source": [
    "* MySQL ERROR 1698 (28000) 错误"
   ]
  },
  {
   "cell_type": "raw",
   "metadata": {},
   "source": [
    "~$ mysql -u root -p\n",
    "Enter password: \n",
    "ERROR 1698 (28000): Access denied for user 'root'@'localhost'"
   ]
  },
  {
   "cell_type": "markdown",
   "metadata": {},
   "source": [
    "* 切换到超级用户"
   ]
  },
  {
   "cell_type": "raw",
   "metadata": {},
   "source": [
    "~$ sudo su"
   ]
  },
  {
   "cell_type": "markdown",
   "metadata": {},
   "source": [
    "* MySQL启动之后就可以不用密码登陆了。"
   ]
  },
  {
   "cell_type": "raw",
   "metadata": {},
   "source": [
    "~$ mysql -u root\n",
    "Welcome to the MySQL monitor.  Commands end with ; or \\g.\n",
    "Your MySQL connection id is 2\n",
    "Server version: 5.7.10 MySQL Community Server (GPL)"
   ]
  },
  {
   "cell_type": "markdown",
   "metadata": {},
   "source": [
    "* 查看一下user表，错误的起因就是在这里， root的plugin被修改成了auth_socket，用密码登陆的plugin应该是mysql_native_password。"
   ]
  },
  {
   "cell_type": "raw",
   "metadata": {},
   "source": [
    "mysql> SELECT user,host,plugin FROM mysql.user;\n",
    "+-----------+-----------+-----------------------+\n",
    "| user      | host      | plugin                |\n",
    "+-----------+-----------+-----------------------+\n",
    "| root      | localhost | auth_socket           |\n",
    "| mysql.sys | localhost | mysql_native_password |\n",
    "+-----------+-----------+-----------------------+\n",
    "2 rows in set (0.00 sec)"
   ]
  },
  {
   "cell_type": "markdown",
   "metadata": {},
   "source": [
    "* 关于auth_socket，在官方有说明： https://dev.mysql.com/doc/mysql-security-excerpt/5.5/en/socket-authentication-plugin.html ，反正现在暂时不用它， 那就把这里改了。\n",
    "* 注意：password那里设置成自己的密码"
   ]
  },
  {
   "cell_type": "raw",
   "metadata": {},
   "source": [
    "mysql> UPDATE mysql.user SET authentication_string=PASSWORD('Avalon'), plugin='mysql_native_password' WHERE user='root';\n",
    "Query OK, 1 row affected, 1 warning (0.01 sec)\n",
    "\n",
    "mysql> FLUSH PRIVILEGES;\n",
    "Query OK, 0 rows affected (0.01 sec)"
   ]
  },
  {
   "cell_type": "markdown",
   "metadata": {},
   "source": [
    "* 重启服务，问题就解决了。"
   ]
  },
  {
   "cell_type": "raw",
   "metadata": {},
   "source": [
    "~$ sudo service mysql stop\n",
    "\n",
    "~$ sudo service mysql start\n",
    "\n",
    "~$ mysql -u root -p\n",
    "Enter password: \n",
    "Welcome to the MySQL monitor.  Commands end with ; or \\g.\n",
    "Your MySQL connection id is 2\n",
    "Server version: 5.7.10 MySQL Community Server (GPL)"
   ]
  },
  {
   "cell_type": "markdown",
   "metadata": {},
   "source": [
    "# redis安装教程"
   ]
  },
  {
   "cell_type": "raw",
   "metadata": {},
   "source": [
    "sudo apt-get install redis-server"
   ]
  },
  {
   "cell_type": "raw",
   "metadata": {},
   "source": [
    "redis-cli\n",
    "进入redis命令行模式"
   ]
  },
  {
   "cell_type": "raw",
   "metadata": {},
   "source": [
    "set 'a' 'b'\n",
    "设置键名，键值\n",
    "get 'a'\n",
    "获取键值"
   ]
  },
  {
   "cell_type": "markdown",
   "metadata": {},
   "source": [
    "# import redis出错问题"
   ]
  },
  {
   "cell_type": "markdown",
   "metadata": {},
   "source": [
    "* 在安装过Redis后，通过Python程序导入redis时，遇到一个“ImportError: No module named redis”错误\n",
    "* Python默认是不支持Redis的，当引用redis时就会报错："
   ]
  },
  {
   "cell_type": "raw",
   "metadata": {},
   "source": [
    "这里需要为Python安装Redis库，登陆https://github.com/andymccurdy/redis-py 后点击Download ZIP下载安装包。"
   ]
  },
  {
   "cell_type": "raw",
   "metadata": {},
   "source": [
    "[root@master soft]# unzip redis-py-master.zip -d /usr/local/redis\n",
    "[root@master soft]# cd /usr/local/redis\n",
    "[root@master redis]# ll\n",
    "total 4\n",
    "drwxr-xr-x 7 root root 4096 Nov  4 02:40 redis-py-master\n",
    "[root@master redis]# cd redis-py-master/\n",
    "[root@master redis-py-master]# sudo python setup.py install"
   ]
  },
  {
   "cell_type": "raw",
   "metadata": {},
   "source": [
    "下面说一下用Python操作Redis吧，使用Python安装Redis的话需要安装redis-py的库\n",
    "\n",
    "1、安装redis-py\n",
    "\n",
    "easy_install redis  也可以使用pip install redis安装，或者在https://github.com/andymccurdy/redis-py下载然后执行python setup.py install安装\n",
    "\n",
    "2、安装Parser安装\n",
    "\n",
    "Parser可以控制如何解析redis响应的内容。redis-py包含两个Parser类，PythonParser和HiredisParser。默认，如果已经安装了hiredis模块，redis-py会使用HiredisParser，否则会使用PythonParser。HiredisParser是C编写的，由redis核心团队维护，性能要比PythonParser提高10倍以上，所以推荐使用。安装方法，使用easy_install：\n",
    "\n",
    "easy_install hiredis  或者pip install hiredis"
   ]
  },
  {
   "cell_type": "code",
   "execution_count": null,
   "metadata": {},
   "outputs": [],
   "source": []
  }
 ],
 "metadata": {
  "kernelspec": {
   "display_name": "Python 3",
   "language": "python",
   "name": "python3"
  },
  "language_info": {
   "codemirror_mode": {
    "name": "ipython",
    "version": 3
   },
   "file_extension": ".py",
   "mimetype": "text/x-python",
   "name": "python",
   "nbconvert_exporter": "python",
   "pygments_lexer": "ipython3",
   "version": "3.6.5"
  }
 },
 "nbformat": 4,
 "nbformat_minor": 2
}
