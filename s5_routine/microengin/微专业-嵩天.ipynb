{
 "cells": [
  {
   "cell_type": "markdown",
   "metadata": {},
   "source": [
    "## 微专业内容"
   ]
  },
  {
   "cell_type": "markdown",
   "metadata": {},
   "source": [
    "### 装饰器"
   ]
  },
  {
   "cell_type": "code",
   "execution_count": null,
   "metadata": {},
   "outputs": [],
   "source": [
    "# coding:utf-8\n",
    "\n",
    "\n",
    "class DemoClass:\n",
    "    \"\"\"\n",
    "    测试属性约束\n",
    "    \"\"\"\n",
    "    def __init__(self, name):\n",
    "        self.name = name\n",
    "\n",
    "    @property\n",
    "    def age(self):\n",
    "        return self._age\n",
    "\n",
    "    @age.setter\n",
    "    def age(self, value):\n",
    "        if value < 0 or value > 100:\n",
    "            value = 30\n",
    "        self._age = value\n",
    "\n",
    "dc1 = DemoClass(\"老李\")\n",
    "dc1.age = -100\n",
    "print(dc1.age)\n"
   ]
  },
  {
   "cell_type": "code",
   "execution_count": null,
   "metadata": {},
   "outputs": [],
   "source": [
    "# coding:utf-8\n",
    "\n",
    "\n",
    "\"\"\"\n",
    "一个函数，更新其功能\n",
    "要么重新编写函数，补充功能，\n",
    "\n",
    "不改变函数功能，增补一个装饰器给他\n",
    "\"\"\"\n",
    "def f1():\n",
    "    pass\n",
    "\n",
    "f1 = staticmethod(f1)\n",
    "\n",
    "@staticmethod\n",
    "def f2():\n",
    "    pass\n"
   ]
  },
  {
   "cell_type": "code",
   "execution_count": null,
   "metadata": {},
   "outputs": [],
   "source": [
    "# coding:utf-8\n",
    "\n",
    "\n",
    "\"\"\"\n",
    "装饰器设计实例\n",
    "\"\"\"\n",
    "\n",
    "def bar(foo):\n",
    "    def wrapper(a):\n",
    "        print(\"{:*^20}\".format('BEGIN'))\n",
    "        foo(a)\n",
    "        print(\"{:*^20}\".format('END'))\n",
    "    return wrapper\n",
    "\n",
    "\n",
    "@bar\n",
    "def printA(a):\n",
    "    print('这是变量{}'.format(a))\n",
    "\n",
    "printA('python')"
   ]
  },
  {
   "cell_type": "code",
   "execution_count": null,
   "metadata": {},
   "outputs": [],
   "source": [
    "# coding:utf-8\n",
    "\n",
    "\n",
    "\"\"\"\n",
    "装饰器设计实验\n",
    "\"\"\"\n",
    "def bar(foo):\n",
    "    def wrapper(a):\n",
    "        print('尝试一些新的东西')\n",
    "        return foo(a)\n",
    "    return wrapper\n",
    "\n",
    "@bar\n",
    "def printB(a):\n",
    "    print('这是变量{}'.format(a))\n",
    "\n",
    "printB('nihao')"
   ]
  },
  {
   "cell_type": "markdown",
   "metadata": {},
   "source": [
    "### 协程"
   ]
  },
  {
   "cell_type": "code",
   "execution_count": null,
   "metadata": {},
   "outputs": [],
   "source": [
    "# coding:utf-8\n",
    "\n",
    "\n",
    "\"\"\"\n",
    "测试异步协程\n",
    "\"\"\"\n",
    "async def pr():\n",
    "    \"\"\"\n",
    "    协程函数\n",
    "    \"\"\"\n",
    "\n",
    "    pass\n",
    "\n",
    "# async with lock:\n",
    "#     pass\n",
    "\n",
    "pipline = []\n",
    "async for data in pipline:\n",
    "    pass\n"
   ]
  },
  {
   "cell_type": "code",
   "execution_count": null,
   "metadata": {},
   "outputs": [],
   "source": [
    "# coding:utf-8\n",
    "\n",
    "\n",
    "async def foo(db):\n",
    "    data = await db.fetch('select ...')\n",
    "    pass\n"
   ]
  },
  {
   "cell_type": "markdown",
   "metadata": {},
   "source": [
    "### 迭代器"
   ]
  },
  {
   "cell_type": "code",
   "execution_count": null,
   "metadata": {},
   "outputs": [],
   "source": [
    "# coding:utf-8\n",
    "\n",
    "\n",
    "class DemoIterator:\n",
    "    \"\"\"\n",
    "    测试迭代器\n",
    "    \"\"\"\n",
    "    def __init__(self, container):\n",
    "        self.container = container\n",
    "        self.length = len(self.container)\n",
    "        self.index = 0\n",
    "\n",
    "    def __iter__(self):\n",
    "        return self\n",
    "    \n",
    "    def __next__(self):\n",
    "        self.length -= 1\n",
    "        self.index += 1\n",
    "        if self.length > 0:\n",
    "            return self.container[self.index]\n",
    "        else:\n",
    "            raise StopIteration\n",
    "\n",
    "lst = list(range(15))\n",
    "di = DemoIterator(lst)\n",
    "for i in di:\n",
    "    print(i, end=', ')\n"
   ]
  },
  {
   "cell_type": "code",
   "execution_count": null,
   "metadata": {},
   "outputs": [],
   "source": [
    "# coding:utf-8\n",
    "\n",
    "\n",
    "def get_value(max):\n",
    "    \"\"\"\n",
    "    测试生成器\n",
    "    \"\"\"\n",
    "    import random\n",
    "    ls = list(range(10))\n",
    "    print(ls, end=',')\n",
    "    for _ in range(max):\n",
    "        yield ls[random.randint(0, 9)]\n",
    "\n",
    "for i in get_value(10):\n",
    "    print(i)\n"
   ]
  },
  {
   "cell_type": "markdown",
   "metadata": {},
   "source": [
    "### 其他"
   ]
  },
  {
   "cell_type": "code",
   "execution_count": null,
   "metadata": {},
   "outputs": [],
   "source": [
    "class Judge:\n",
    "    \"\"\"\n",
    "    测试，如果在init语句中使用初始化会出现什么情况\n",
    "    \n",
    "\"\"\"\n",
    "    def __init__(self, list):\n",
    "        self.list = list\n",
    "\n",
    "    def __lt__(self, other):\n",
    "        s, t = 0, 0\n",
    "        for c in self:\n",
    "            s += c\n",
    "        for c in other:\n",
    "            t += c\n",
    "        return True if s > t else False\n",
    "\n"
   ]
  },
  {
   "cell_type": "markdown",
   "metadata": {},
   "source": [
    "### 上下文管理器"
   ]
  },
  {
   "cell_type": "code",
   "execution_count": null,
   "metadata": {},
   "outputs": [],
   "source": [
    "# coding:utf-8\n",
    "\n",
    "\n",
    "class MyResource:\n",
    "    \"\"\"\n",
    "    测试上下文管理器\n",
    "    \"\"\"\n",
    "\n",
    "    def __enter__(self):\n",
    "        \"\"\"这里必须返回对象本身\"\"\"\n",
    "        return self\n",
    "\n",
    "    def __exit__(self, exc_type, exc_val, exc_tb):\n",
    "        pass\n",
    "\n",
    "    def printStr(self):\n",
    "        print('helloworld!')\n",
    "\n",
    "with MyResource() as mr:\n",
    "    mr.printStr()\n"
   ]
  },
  {
   "cell_type": "markdown",
   "metadata": {},
   "source": [
    "### 异常"
   ]
  },
  {
   "cell_type": "code",
   "execution_count": null,
   "metadata": {},
   "outputs": [],
   "source": [
    "# coding:utf-8\n",
    "\n",
    "\n",
    "class DemoException(Exception):\n",
    "    \"\"\"\n",
    "    异常类测试\n",
    "    \"\"\"\n",
    "    def __init__(self, name, msg='自定义异常'):\n",
    "        self.name = name\n",
    "        self.msg = msg\n",
    "\n",
    "try:\n",
    "    raise DemoException(\"脚本错误\")\n",
    "\n",
    "except DemoException as e:\n",
    "    print('{}异常的报警是{}'.format(e.name, e.msg))\n"
   ]
  },
  {
   "cell_type": "markdown",
   "metadata": {},
   "source": [
    "### 类"
   ]
  },
  {
   "cell_type": "code",
   "execution_count": null,
   "metadata": {},
   "outputs": [],
   "source": [
    "# coding:utf-8\n",
    "\n",
    "\n",
    "class EmptyClass:\n",
    "    pass\n",
    "\n",
    "a = EmptyClass()\n",
    "a.name = \"老李\"\n",
    "a.age = 50\n",
    "a.family = ['儿子','女儿','小李','耳力']\n",
    "print(a.family)\n",
    "print(a.__dict__)\n",
    "print(__name__)\n"
   ]
  },
  {
   "cell_type": "markdown",
   "metadata": {},
   "source": [
    "### 命名装饰器"
   ]
  },
  {
   "cell_type": "code",
   "execution_count": null,
   "metadata": {},
   "outputs": [],
   "source": [
    "# coding:utf-8\n",
    "\n",
    "\n",
    "class DemoClass:\n",
    "    \"\"\"\n",
    "    定义名称修饰\n",
    "    单下划线是约定，可以调用，无特殊功能\n",
    "    双下划线不是约定，而是功能性的，私有的是无法调用的\n",
    "    双下划线开头和结尾的属性或是方法无任何特殊功能，名字不被修改\n",
    "    部分名称是保留属性或保留方法\n",
    "    \"\"\"\n",
    "    def __init__(self, name):\n",
    "        self.name = name\n",
    "        self._nick = name + '同志'\n",
    "\n",
    "    def getNick(self):\n",
    "        return self._nick\n",
    "\n",
    "dc1 = DemoClass(\"老李\")\n",
    "print(dc1.name)\n",
    "print(dc1._nick)\n",
    "print(dc1.getNick())"
   ]
  },
  {
   "cell_type": "markdown",
   "metadata": {},
   "source": [
    "### 图像"
   ]
  },
  {
   "cell_type": "code",
   "execution_count": null,
   "metadata": {},
   "outputs": [],
   "source": [
    "# coding:utf-8\n",
    "\n",
    "\n",
    "import cv2\n",
    "\n",
    "file_name = 'testImg.png'\n",
    "markLineWeight = 2\n",
    "markLineColor = (255, 0, 0)\n",
    "\n",
    "def main():\n",
    "    face_cascade = cv2.CascadeClassifier(cv2.data.haarcascades + \\\n",
    "        'haarcascade_frontalface_default.xml')\n",
    "    img = cv2.imread(file_name)\n"
   ]
  },
  {
   "cell_type": "markdown",
   "metadata": {},
   "source": [
    "### 测试range循环"
   ]
  },
  {
   "cell_type": "code",
   "execution_count": null,
   "metadata": {},
   "outputs": [],
   "source": [
    "# coding:utf-8\n",
    "\n",
    "tup = (1, 23)\n",
    "for item in range(tup[0], tup[1]):\n",
    "    print(item)\n"
   ]
  },
  {
   "cell_type": "markdown",
   "metadata": {},
   "source": [
    "### 运算符重载"
   ]
  },
  {
   "cell_type": "code",
   "execution_count": null,
   "metadata": {},
   "outputs": [],
   "source": [
    "# coding:utf-8\n",
    "\"\"\"\n",
    "测试一些问题\n",
    "\"\"\"\n",
    "\n",
    "class NewList(list):\n",
    "    \"\"\"\n",
    "    运算符重载\n",
    "    \"\"\"\n",
    "    def __add__(self, other):\n",
    "        result = []\n",
    "        for i in range(len(self)):\n",
    "            try:\n",
    "                result.append(self[i] + other[i])\n",
    "            except Exception as e:\n",
    "                result.append(self[i])\n",
    "        return result\n",
    "\n",
    "\n",
    "ls = NewList([1, 2, 3, 4, 5])\n",
    "lt = NewList([2, 3, 4, 5, 6, 7, 8, 9])\n",
    "print(ls + lt)              "
   ]
  },
  {
   "cell_type": "code",
   "execution_count": null,
   "metadata": {},
   "outputs": [],
   "source": [
    "# coding:utf-8\n",
    "\n",
    "from functools import reduce\n",
    "class Judge(list):\n",
    "    \"\"\"\n",
    "    用来测试重载比较方法\n",
    "    这里为什么不把他放到初始化里，而是直接放到类的继承中呢\n",
    "    \"\"\"\n",
    "\n",
    "    def __lt__(self, other):\n",
    "        \"\"\"\n",
    "        以各元素算术和比较依据\n",
    "        \n",
    "        \"\"\"\n",
    "        s, t = 0, 0\n",
    "        for c in self:\n",
    "            s += c\n",
    "        for c in other:\n",
    "            t += c\n",
    "        return True if s < t else False\n",
    "\n",
    "\n",
    "class Judge2:\n",
    "    \"\"\"\n",
    "    测试如果在init语句中使用这种方法会出现哪些问题\n",
    "\n",
    "    \"\"\"\n",
    "    def __init__(self, list):\n",
    "        self.list = list\n",
    "\n",
    "    def __lt__(self, other):\n",
    "        # s, t = 0, 0\n",
    "        # a = reduce(sum, self.list)\n",
    "        # b = reduce(sum, other)\n",
    "        \n",
    "        return True if sum(self.list) < sum(other) else False\n",
    "\n",
    "        \n",
    "\n",
    "# ls = Judge([6, 7, 8, 9, 80])\n",
    "# lt = Judge([6, 7, 3, 8, 9])\n",
    "ls2 = Judge2([6, 7, 8, 9, 80])\n",
    "lt2 = Judge2([6, 7, 3, 8, 9])\n",
    "\n",
    "print(ls2<lt2)\n"
   ]
  },
  {
   "cell_type": "code",
   "execution_count": null,
   "metadata": {},
   "outputs": [],
   "source": []
  },
  {
   "cell_type": "code",
   "execution_count": null,
   "metadata": {},
   "outputs": [],
   "source": []
  }
 ],
 "metadata": {
  "kernelspec": {
   "display_name": "Python 3",
   "language": "python",
   "name": "python3"
  },
  "language_info": {
   "codemirror_mode": {
    "name": "ipython",
    "version": 3
   },
   "file_extension": ".py",
   "mimetype": "text/x-python",
   "name": "python",
   "nbconvert_exporter": "python",
   "pygments_lexer": "ipython3",
   "version": "3.7.0"
  }
 },
 "nbformat": 4,
 "nbformat_minor": 2
}
