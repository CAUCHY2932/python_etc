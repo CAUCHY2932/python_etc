{
 "cells": [
  {
   "cell_type": "markdown",
   "metadata": {},
   "source": [
    "## 照片上传阿里云"
   ]
  },
  {
   "cell_type": "markdown",
   "metadata": {},
   "source": [
    "### 读取csv"
   ]
  },
  {
   "cell_type": "code",
   "execution_count": null,
   "metadata": {},
   "outputs": [],
   "source": [
    "# coding:utf-8-*-\n",
    "\n",
    "with open('./unupload.csv', 'r') as f:\n",
    "    list_file=f.readlines()\n",
    "\n",
    "for item in list_file:\n",
    "    print(item)"
   ]
  },
  {
   "cell_type": "markdown",
   "metadata": {},
   "source": [
    "### 上传"
   ]
  },
  {
   "cell_type": "code",
   "execution_count": null,
   "metadata": {},
   "outputs": [],
   "source": [
    "# -*- coding: utf-8 -*-\n",
    "import oss2\n",
    "import os\n",
    "\n",
    "config={}\n",
    "\n",
    "config['AccessKeyId'] = ''\n",
    "config['AccessKeySecret'] = ''\n",
    "config['endpoint'] = ''\n",
    "\n",
    "def upload_pic(fileName, relativePath):\n",
    "    AccessKeyId = config.get(AccessKeyId)\n",
    "    AccessKeySecret = config.get(AccessKeySecret)\n",
    "    endpoint=config.get(endpoint)\n",
    "    BucketName='jnctest'\n",
    "    localFile='./{relativePath}/{fileName}'.format(relativePath=relativePath,fileName=fileName)\n",
    "    folderName='testUpload'\n",
    "    objectName='{folderName}/{fileName}'.format(folderName=folderName,fileName=fileName)\n",
    "    try:\n",
    "        auth = oss2.Auth(AccessKeyId, AccessKeySecret)\n",
    "        bucket = oss2.Bucket(auth, endpoint, BucketName)\n",
    "        bucket.put_object_from_file(objectName, localFile)\n",
    "        print('-*-'*80)\n",
    "        print('{fileName} has been upload!'.format(fileName=fileName))\n",
    "    except Exception as e:\n",
    "        print('出错了')\n",
    "        print(e)\n",
    "\n",
    "\n",
    "def main():\n",
    "    relativePath='upload'\n",
    "    fielPath='./{relativePath}'.format(relativePath=relativePath)\n",
    "    list_file=os.listdir(fielPath)\n",
    "    n=0\n",
    "    for item in list_file:\n",
    "        print(item)\n",
    "        upload_pic(item,relativePath)\n",
    "        n+=1\n",
    "        print('@'*80)\n",
    "        print('having upload {}!'.format(n))\n",
    "\n",
    "def print_a():\n",
    "        print('hello')\n",
    "\n",
    "\n",
    "if __name__=='__main__':\n",
    "    main()"
   ]
  },
  {
   "cell_type": "code",
   "execution_count": null,
   "metadata": {},
   "outputs": [],
   "source": [
    "# -*- coding: utf-8 -*-\n",
    "import oss2\n",
    "import os\n",
    "\n",
    "# ---------------------------setting---------------------------------\n",
    "# 当前待上传图片的文件夹\n",
    "currentFolder='upload'\n",
    "# 需要上传到的bucket\n",
    "uploadBucket='jncpic'\n",
    "# 需要上传到的阿里云的子目录\n",
    "bucketFolder='jzzl201901'\n",
    "config = {}\n",
    "\n",
    "config['AccessKeyId']=''\n",
    "config['AccessKeySecret']=''\n",
    "config['endpoint']=''\n",
    "\n",
    "\n",
    "# ---------------------------setting---------------------------------\n",
    "\n",
    "\n",
    "\n",
    "def upload_pic(fileName, relativePath, BucketName, folderName):\n",
    "    AccessKeyId=config.get(AccessKeyId)\n",
    "    AccessKeySecret=config.get(AccessKeySecret)\n",
    "    endpoint=config.get(endpoint)\n",
    "    # BucketName=BucketName\n",
    "    # fileName='20180607203719 - 副本.jpg'\n",
    "    localFile='./{relativePath}/{fileName}'.format(relativePath=relativePath,fileName=fileName)\n",
    "    # folderName=bucketFolder\n",
    "    objectName='{folderName}/{fileName}'.format(folderName=folderName,fileName=fileName)\n",
    "    try:\n",
    "        auth = oss2.Auth(AccessKeyId, AccessKeySecret)\n",
    "        bucket = oss2.Bucket(auth, endpoint, BucketName)\n",
    "        bucket.put_object_from_file(objectName, localFile)\n",
    "        print('-*-'*40)\n",
    "        print('{fileName} has been upload!'.format(fileName=fileName))\n",
    "    except Exception as e:\n",
    "        with open('./unupload.csv', 'a+') as f:\n",
    "            f.write(fileName+'\\n')\n",
    "        print('出错了')\n",
    "        print(e)\n",
    "\n",
    "\n",
    "# def errorHandler(fileName):\n",
    "#     with open('./unupload.csv', 'a+') as f:\n",
    "#         f.write(fileName+'\\n')\n",
    "\n",
    "def main():\n",
    "    relativePath=currentFolder\n",
    "    fielPath='./{relativePath}'.format(relativePath=relativePath)\n",
    "    list_file=os.listdir(fielPath)\n",
    "    print('-'*100)\n",
    "    print('folder have {} files!'.format(len(list_file)))\n",
    "    print('-'*100)\n",
    "\n",
    "    n=0\n",
    "    for item in list_file:\n",
    "        print(item)\n",
    "        upload_pic(item, relativePath, uploadBucket, bucketFolder)\n",
    "        # errorHandler(item)\n",
    "        n+=1\n",
    "        print('@'*80)\n",
    "        print('having upload {}!'.format(n))\n",
    "\n",
    "if __name__=='__main__':\n",
    "    main()"
   ]
  },
  {
   "cell_type": "code",
   "execution_count": null,
   "metadata": {},
   "outputs": [],
   "source": []
  },
  {
   "cell_type": "code",
   "execution_count": null,
   "metadata": {},
   "outputs": [],
   "source": []
  }
 ],
 "metadata": {
  "kernelspec": {
   "display_name": "Python 3",
   "language": "python",
   "name": "python3"
  },
  "language_info": {
   "codemirror_mode": {
    "name": "ipython",
    "version": 3
   },
   "file_extension": ".py",
   "mimetype": "text/x-python",
   "name": "python",
   "nbconvert_exporter": "python",
   "pygments_lexer": "ipython3",
   "version": "3.7.0"
  }
 },
 "nbformat": 4,
 "nbformat_minor": 2
}
