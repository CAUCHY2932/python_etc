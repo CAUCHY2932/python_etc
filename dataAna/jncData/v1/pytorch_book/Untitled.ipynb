{
 "cells": [
  {
   "cell_type": "markdown",
   "metadata": {},
   "source": [
    "## pytorch神经网络"
   ]
  },
  {
   "cell_type": "markdown",
   "metadata": {},
   "source": [
    "## 反向传播概念"
   ]
  },
  {
   "cell_type": "raw",
   "metadata": {},
   "source": [
    "神经元内部结构"
   ]
  },
  {
   "cell_type": "raw",
   "metadata": {},
   "source": [
    "激活函数 sigmoid， Relu"
   ]
  },
  {
   "cell_type": "raw",
   "metadata": {},
   "source": [
    "输入，隐含，输出"
   ]
  },
  {
   "cell_type": "raw",
   "metadata": {},
   "source": [
    "线性部分，一组权重乘以相应的输入的值"
   ]
  },
  {
   "cell_type": "raw",
   "metadata": {},
   "source": [
    "反向传播算法起源于导数链式求导法则"
   ]
  },
  {
   "cell_type": "code",
   "execution_count": null,
   "metadata": {},
   "outputs": [],
   "source": []
  }
 ],
 "metadata": {
  "kernelspec": {
   "display_name": "Pytorch for Deeplearning",
   "language": "python",
   "name": "pytorch"
  },
  "language_info": {
   "codemirror_mode": {
    "name": "ipython",
    "version": 3
   },
   "file_extension": ".py",
   "mimetype": "text/x-python",
   "name": "python",
   "nbconvert_exporter": "python",
   "pygments_lexer": "ipython3",
   "version": "3.6.8"
  }
 },
 "nbformat": 4,
 "nbformat_minor": 2
}
