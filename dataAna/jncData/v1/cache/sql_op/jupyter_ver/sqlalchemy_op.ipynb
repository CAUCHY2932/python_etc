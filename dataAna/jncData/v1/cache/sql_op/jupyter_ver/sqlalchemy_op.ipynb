{
 "cells": [
  {
   "cell_type": "code",
   "execution_count": 1,
   "metadata": {},
   "outputs": [],
   "source": [
    "# -*- coding:utf-8 -*-\n",
    "\n",
    "\"\"\"\n",
    "    2019/4/22 13:19 by young\n",
    "    这里不能指定integer的长度\n",
    "\"\"\"\n",
    "# https://www.cnblogs.com/ccorz/p/5711955.html\n",
    "from sqlalchemy import Column, Integer, String\n",
    "from sqlalchemy import create_engine\n",
    "from sqlalchemy.ext.declarative import declarative_base\n",
    "\n",
    "# settings\n",
    "from sqlalchemy.orm import sessionmaker\n",
    "\n",
    "database_type = 'mysql'\n",
    "database_driver = 'pymysql'\n",
    "user_name = 'root'\n",
    "password = '123456'\n",
    "host = 'localhost'\n",
    "port = 3306\n",
    "database_name = 'feature_skeleton'\n",
    "\n",
    "\n",
    "# 进行初始化操作\n",
    "engine = create_engine(\"{}+{}://{}:{}@{}:{}/{}\".format(database_type,\n",
    "                                                       database_driver,\n",
    "                                                       user_name,\n",
    "                                                       password,\n",
    "                                                       host,\n",
    "                                                       port,\n",
    "                                                       database_name),\n",
    "                       max_overflow=5)\n",
    "Base = declarative_base()\n",
    "\n",
    "\n",
    "class CommonFeatureTest(Base):\n",
    "    __tablename__ = 'common_feature_test2'\n",
    "    id = Column(Integer, primary_key=True, autoincrement=True)\n",
    "    common_feature_index = Column(String(32), nullable=False)\n",
    "\n",
    "\n",
    "class User(Base):\n",
    "    __tablename__ = 'user'\n",
    "    id = Column(Integer, primary_key=True, autoincrement=True)\n",
    "    name = Column(String(32), nullable=False)\n",
    "    address = Column(String(32))\n",
    "    age = Column(Integer)\n",
    "\n",
    "# 定义初始化数据库函数\n",
    "def init_db():\n",
    "    Base.metadata.create_all(engine)\n",
    "\n",
    "\n",
    "# 顶固删除数据库函数\n",
    "def drop_db():\n",
    "    Base.metadata.drop_all(engine)\n",
    "\n",
    "\n",
    "# drop_db()\n",
    "init_db()\n",
    "\n",
    "\n",
    "# 创建会话\n",
    "Session = sessionmaker()\n",
    "Session.configure(bind=engine)\n",
    "session = Session()\n",
    "\n",
    "\n",
    "# 新建一个实例\n",
    "user1 = User(name='aaron', address='chengdu', age=19)\n",
    "user2 = User(name='john', address='chengdu', age=34)\n",
    "user3 = User(name='jerry', address='hangzhou', age=14)\n",
    "user4 = User(name='tom', address='nanjing', age=12)\n",
    "\n",
    "#\n",
    "# # 插入记录\n",
    "# session.add(user1)\n",
    "#\n",
    "#\n",
    "# # 查询记录\n",
    "# our_user = session.query(User).filter_by(name='aaron').first()\n",
    "\n",
    "# 如果有结果，会返回一个对象\n",
    "# 否则会返回None\n",
    "# 提交\n",
    "# session.commit()\n",
    "\n",
    "# 撤销事务提交\n",
    "# session.rollback()"
   ]
  },
  {
   "cell_type": "code",
   "execution_count": 2,
   "metadata": {},
   "outputs": [],
   "source": [
    "session.add(user1)"
   ]
  },
  {
   "cell_type": "code",
   "execution_count": 3,
   "metadata": {},
   "outputs": [
    {
     "data": {
      "text/plain": [
       "<__main__.User at 0x17a7d948748>"
      ]
     },
     "execution_count": 3,
     "metadata": {},
     "output_type": "execute_result"
    }
   ],
   "source": [
    "session.query(User).filter_by(name='aaron').first()"
   ]
  },
  {
   "cell_type": "code",
   "execution_count": 4,
   "metadata": {},
   "outputs": [],
   "source": [
    "session.add(user2)"
   ]
  },
  {
   "cell_type": "code",
   "execution_count": 7,
   "metadata": {},
   "outputs": [
    {
     "data": {
      "text/plain": [
       "<__main__.User at 0x17a012d3da0>"
      ]
     },
     "execution_count": 7,
     "metadata": {},
     "output_type": "execute_result"
    }
   ],
   "source": [
    "session.query(User).filter_by(name='john').first()"
   ]
  },
  {
   "cell_type": "code",
   "execution_count": 8,
   "metadata": {},
   "outputs": [],
   "source": [
    "session.commit()"
   ]
  },
  {
   "cell_type": "code",
   "execution_count": 9,
   "metadata": {},
   "outputs": [],
   "source": [
    "session.add(user3)"
   ]
  },
  {
   "cell_type": "code",
   "execution_count": 10,
   "metadata": {},
   "outputs": [],
   "source": [
    "session.add(user4)"
   ]
  },
  {
   "cell_type": "code",
   "execution_count": 11,
   "metadata": {},
   "outputs": [],
   "source": [
    "session.commit()"
   ]
  },
  {
   "cell_type": "code",
   "execution_count": 17,
   "metadata": {},
   "outputs": [],
   "source": [
    "query_results = session.query(User).filter(User.name.in_(['aaron', 'john', 'happy'])).all()"
   ]
  },
  {
   "cell_type": "code",
   "execution_count": 20,
   "metadata": {},
   "outputs": [
    {
     "name": "stdout",
     "output_type": "stream",
     "text": [
      "aaron 19\n",
      "john 34\n"
     ]
    }
   ],
   "source": [
    "for row in query_results:\n",
    "    print(row.name, row.age)"
   ]
  },
  {
   "cell_type": "code",
   "execution_count": null,
   "metadata": {},
   "outputs": [],
   "source": []
  }
 ],
 "metadata": {
  "kernelspec": {
   "display_name": "Python 3",
   "language": "python",
   "name": "python3"
  },
  "language_info": {
   "codemirror_mode": {
    "name": "ipython",
    "version": 3
   },
   "file_extension": ".py",
   "mimetype": "text/x-python",
   "name": "python",
   "nbconvert_exporter": "python",
   "pygments_lexer": "ipython3",
   "version": "3.6.8"
  }
 },
 "nbformat": 4,
 "nbformat_minor": 2
}
