{
 "cells": [
  {
   "cell_type": "markdown",
   "metadata": {},
   "source": [
    "## python发送邮件"
   ]
  },
  {
   "cell_type": "code",
   "execution_count": null,
   "metadata": {},
   "outputs": [],
   "source": [
    "# 发送邮件demo\n",
    "import yagmail\n",
    "__author__ = 'young'\n",
    "\n",
    "# # CONFIGS\n",
    "# USER=''\n",
    "# PASSWORD=''\n",
    "# HOST=''\n",
    "# PORT=''\n",
    "# SUBJECT=''\n",
    "# ATTACHMENTS=['','']\n",
    "#\n",
    "#\n",
    "# yag = yagmail.SMTP(user=USER, password=PASSWORD, host=HOST, port=PORT)\n",
    "# yag.send(USER, subject = SUBJECT, attachments=ATTACHMENTS)\n",
    "\n",
    "\n",
    "# # EXAMPLE:\n",
    "USER='haochen2932@126.com'\n",
    "PASSWORD=''\n",
    "HOST='smtp.126.com'\n",
    "# PORT='25'# 非ssl端口\n",
    "PORT = 465 # SSL端口\n",
    "SUBJECT='主题'\n",
    "# ATTACHMENTS=[] # 传入附件的路径\n",
    "CONTENTS='你好啊，这是正文'\n",
    "#\n",
    "obj_users=['2932045582@qq.com'] # 目标用户的邮件地址,多用户接收邮件时为一个列表\n",
    "yag = yagmail.SMTP(user=USER, password=PASSWORD, host=HOST, port=PORT)\n",
    "#\n",
    "# # 单用户发送邮件\n",
    "yag.send(obj_users, subject=SUBJECT, contents=CONTENTS)\n",
    "#\n",
    "# # 向多用户发送邮件\n",
    "# yag.send()\n"
   ]
  },
  {
   "cell_type": "code",
   "execution_count": null,
   "metadata": {},
   "outputs": [],
   "source": [
    "# 发送邮件demo\n",
    "import yagmail\n",
    "__author__ = 'young'\n",
    "\n",
    "# # CONFIGS\n",
    "# USER=''\n",
    "# PASSWORD=''\n",
    "# HOST=''\n",
    "# PORT=''\n",
    "# SUBJECT=''\n",
    "# ATTACHMENTS=['','']\n",
    "#\n",
    "#\n",
    "# yag = yagmail.SMTP(user=USER, password=PASSWORD, host=HOST, port=PORT)\n",
    "# yag.send(USER, subject = SUBJECT, attachments=ATTACHMENTS)\n",
    "\n",
    "\n",
    "# # EXAMPLE:\n",
    "USER='haochen2932@126.com'\n",
    "PASSWORD=''\n",
    "HOST='smtp.126.com'\n",
    "# PORT='25'# 非ssl端口\n",
    "PORT = 465 # SSL端口\n",
    "SUBJECT='主题'\n",
    "# ATTACHMENTS=[] # 传入附件的路径\n",
    "CONTENTS='你好啊，这是正文'\n",
    "#\n",
    "obj_users=['2932045582@qq.com'] # 目标用户的邮件地址,多用户接收邮件时为一个列表\n",
    "yag = yagmail.SMTP(user=USER, password=PASSWORD, host=HOST, port=PORT)\n",
    "#\n",
    "# # 单用户发送邮件\n",
    "yag.send(obj_users, subject=SUBJECT, contents=CONTENTS)\n",
    "#\n",
    "# # 向多用户发送邮件\n",
    "# yag.send()\n"
   ]
  }
 ],
 "metadata": {
  "kernelspec": {
   "display_name": "Python 3",
   "language": "python",
   "name": "python3"
  },
  "language_info": {
   "codemirror_mode": {
    "name": "ipython",
    "version": 3
   },
   "file_extension": ".py",
   "mimetype": "text/x-python",
   "name": "python",
   "nbconvert_exporter": "python",
   "pygments_lexer": "ipython3",
   "version": "3.7.3"
  },
  "toc": {
   "base_numbering": 1,
   "nav_menu": {},
   "number_sections": true,
   "sideBar": true,
   "skip_h1_title": false,
   "title_cell": "Table of Contents",
   "title_sidebar": "Contents",
   "toc_cell": false,
   "toc_position": {},
   "toc_section_display": true,
   "toc_window_display": false
  }
 },
 "nbformat": 4,
 "nbformat_minor": 2
}
