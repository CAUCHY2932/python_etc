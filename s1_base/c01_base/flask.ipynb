{
 "cells": [
  {
   "cell_type": "markdown",
   "metadata": {},
   "source": [
    "# virtualenv的使用"
   ]
  },
  {
   "cell_type": "markdown",
   "metadata": {},
   "source": [
    "## virtualenv的使用"
   ]
  },
  {
   "cell_type": "raw",
   "metadata": {},
   "source": [
    "创建虚拟环境：virtualenv venv"
   ]
  },
  {
   "cell_type": "raw",
   "metadata": {},
   "source": [
    "激活虚拟环境： source venv/activate"
   ]
  },
  {
   "cell_type": "raw",
   "metadata": {},
   "source": [
    "退出虚拟环境：deactivate"
   ]
  },
  {
   "cell_type": "raw",
   "metadata": {},
   "source": [
    "virtualenv venv --python=python3.6\n",
    "创建特定版本的python环境"
   ]
  },
  {
   "cell_type": "markdown",
   "metadata": {},
   "source": [
    "## flask的安装"
   ]
  },
  {
   "cell_type": "raw",
   "metadata": {},
   "source": [
    "安装前的检测： pip freeze"
   ]
  },
  {
   "cell_type": "raw",
   "metadata": {},
   "source": [
    "安装flask：pip install flask"
   ]
  },
  {
   "cell_type": "raw",
   "metadata": {},
   "source": [
    "安装后检测：pip freeze"
   ]
  },
  {
   "cell_type": "markdown",
   "metadata": {},
   "source": [
    "## 正式过程"
   ]
  },
  {
   "cell_type": "raw",
   "metadata": {},
   "source": [
    "virtualenv venv3 --python=python3.6\n",
    "\n",
    "source venv3/bin/activate\n",
    "\n",
    "pip3 freeze\n",
    "\n",
    "pip3 install -i http://pypi.douban.com/simple/ --trusted-host pypi.douban.com flask\n",
    "\n",
    "pip3 freeze\n",
    "\n",
    "deactivate\n"
   ]
  },
  {
   "cell_type": "markdown",
   "metadata": {},
   "source": [
    "# 第一个flask程序"
   ]
  },
  {
   "cell_type": "code",
   "execution_count": 2,
   "metadata": {},
   "outputs": [
    {
     "name": "stdout",
     "output_type": "stream",
     "text": [
      "hello\n"
     ]
    }
   ],
   "source": [
    "# coding:utf-8\n",
    "print('hello')"
   ]
  },
  {
   "cell_type": "markdown",
   "metadata": {},
   "source": [
    "## 前后台项目目录分析"
   ]
  },
  {
   "cell_type": "raw",
   "metadata": {},
   "source": [
    "manage.py\n",
    "入口启动脚本\n",
    "\n",
    "app\n",
    "项目app\n",
    "\n",
    "    __init__.py\n",
    "    初始化文件\n",
    "\n",
    "    model.py\n",
    "    数据模型文件\n",
    "\n",
    "    static\n",
    "    静态目录\n",
    "\n",
    "    home/admin\n",
    "    前台后台模块\n",
    "        \n",
    "        __init__.py\n",
    "        初始化脚本\n",
    "        \n",
    "        views.py\n",
    "        视图处理模块\n",
    "        \n",
    "        forms.py\n",
    "        表单处理文件\n",
    "        \n",
    "    templates\n",
    "    模板目录\n",
    "    \n",
    "        home/admin\n",
    "        前台后台模板\n"
   ]
  },
  {
   "cell_type": "markdown",
   "metadata": {},
   "source": [
    "## 蓝图构建项目目录\n"
   ]
  },
  {
   "cell_type": "raw",
   "metadata": {},
   "source": [
    "什么是蓝图？\n",
    "    一个应用中或跨应用制作应用组件和支持通用的模式"
   ]
  },
  {
   "cell_type": "raw",
   "metadata": {},
   "source": [
    "蓝图的作用？\n",
    "    将不同的功能模块化\n",
    "    构建大型项目\n",
    "    优化项目结构\n",
    "    增强可读性，易于维护"
   ]
  },
  {
   "cell_type": "markdown",
   "metadata": {},
   "source": [
    "## 定义蓝图"
   ]
  },
  {
   "cell_type": "raw",
   "metadata": {},
   "source": [
    "app/admin/__init__.py"
   ]
  },
  {
   "cell_type": "raw",
   "metadata": {},
   "source": [
    "from flask import Blueprint\n",
    "admin=Blueprint(\"admin\",__name__)\n",
    "import views"
   ]
  },
  {
   "cell_type": "markdown",
   "metadata": {},
   "source": [
    "## 注册蓝图"
   ]
  },
  {
   "cell_type": "raw",
   "metadata": {},
   "source": [
    "(app/__init__.py)"
   ]
  },
  {
   "cell_type": "raw",
   "metadata": {},
   "source": [
    "from admin import admin as admin_blueprint\n",
    "app.register_blueprint(admin_blueprint,url_prefix=\"/admin\")"
   ]
  },
  {
   "cell_type": "markdown",
   "metadata": {},
   "source": [
    "## 调用蓝图"
   ]
  },
  {
   "cell_type": "raw",
   "metadata": {},
   "source": [
    "app/admin/views.py"
   ]
  },
  {
   "cell_type": "raw",
   "metadata": {},
   "source": [
    "from . import admin\n",
    "@admin.route(\"/\")"
   ]
  },
  {
   "cell_type": "markdown",
   "metadata": {},
   "source": [
    "# 实操"
   ]
  },
  {
   "cell_type": "raw",
   "metadata": {},
   "source": [
    "app/home/__init__.py"
   ]
  },
  {
   "cell_type": "raw",
   "metadata": {},
   "source": [
    "#coding:utf-8\n",
    "from flask import Blueprint\n",
    "\n",
    "home=Blueprint(\"home\",__name__)\n",
    "\n",
    "import app.home.views"
   ]
  },
  {
   "cell_type": "raw",
   "metadata": {},
   "source": [
    "app/admin/__init__.py"
   ]
  },
  {
   "cell_type": "raw",
   "metadata": {},
   "source": [
    "#coding:utf-8\n",
    "from flask import Blueprint\n",
    "\n",
    "admin=Blueprint(\"admin\",__name__)\n",
    "\n",
    "import app.admin.views"
   ]
  },
  {
   "cell_type": "raw",
   "metadata": {},
   "source": [
    "app/home/views.py"
   ]
  },
  {
   "cell_type": "raw",
   "metadata": {},
   "source": [
    "# coding:utf-8\n",
    "from . import home\n",
    "\n",
    "@home.route(\"/\")\n",
    "def index():\n",
    "    return \"<h1 style='color:green'>this is home</h1>\""
   ]
  },
  {
   "cell_type": "raw",
   "metadata": {},
   "source": [
    "app/admin/views.py"
   ]
  },
  {
   "cell_type": "raw",
   "metadata": {},
   "source": [
    "# coding:utf-8\n",
    "from . import admin\n",
    "\n",
    "@admin.route(\"/\")\n",
    "def index():\n",
    "    return \"<h1 style='color:red'>this is admin</h1>\""
   ]
  },
  {
   "cell_type": "raw",
   "metadata": {},
   "source": [
    "app/__init__.py"
   ]
  },
  {
   "cell_type": "raw",
   "metadata": {},
   "source": [
    "# coding:utf-8\n",
    "from flask import Flask\n",
    "\n",
    "app=Flask(__name__)\n",
    "\n",
    "app.debug=True\n",
    "\n",
    "from app.home import home as home_blueprint\n",
    "from app.admin import admin as admin_blueprint\n",
    "\n",
    "app.register_blueprint(home_blueprint)\n",
    "\n",
    "app.register_blueprint(admin_blueprint,url_prefix=\"/admin\")\n",
    "\n"
   ]
  },
  {
   "cell_type": "raw",
   "metadata": {},
   "source": [
    "manage.py"
   ]
  },
  {
   "cell_type": "raw",
   "metadata": {},
   "source": [
    "# coding:utf-8\n",
    "from app import app\n",
    "\n",
    "if __name__==\"__main__\":\n",
    "    app.run()"
   ]
  },
  {
   "cell_type": "markdown",
   "metadata": {},
   "source": [
    "## 前后台项目目录分析"
   ]
  },
  {
   "cell_type": "markdown",
   "metadata": {},
   "source": [
    "### 前台"
   ]
  },
  {
   "cell_type": "raw",
   "metadata": {},
   "source": [
    "数据模型 models.py\n",
    "表单处理 home/forms.py\n",
    "模板目录 templates/home\n",
    "静态目录 static"
   ]
  },
  {
   "cell_type": "markdown",
   "metadata": {},
   "source": [
    "### 后台"
   ]
  },
  {
   "cell_type": "raw",
   "metadata": {},
   "source": [
    "数据模型 models.py\n",
    "表单处理 adimin/forms.py\n",
    "模板目录 templates/admin\n",
    "静态目录 static"
   ]
  },
  {
   "cell_type": "raw",
   "metadata": {},
   "source": [
    "前台和后台模板和表单是独立的。数据模型可以共用"
   ]
  },
  {
   "cell_type": "markdown",
   "metadata": {},
   "source": [
    "![flask目录](./img/flask目录1.png)"
   ]
  },
  {
   "cell_type": "markdown",
   "metadata": {},
   "source": [
    "## 会员及会员登录日志数据模型"
   ]
  },
  {
   "cell_type": "raw",
   "metadata": {},
   "source": [
    "1.安装数据库连接依赖包"
   ]
  },
  {
   "cell_type": "raw",
   "metadata": {},
   "source": [
    "pip install flask-sqlalchemy"
   ]
  },
  {
   "cell_type": "raw",
   "metadata": {},
   "source": [
    "2.定义mysql数据库连接"
   ]
  },
  {
   "cell_type": "code",
   "execution_count": null,
   "metadata": {},
   "outputs": [],
   "source": [
    "from flask_sqlalchemy import SQLAlchemy\n",
    "from flask import Flask"
   ]
  }
 ],
 "metadata": {
  "kernelspec": {
   "display_name": "Python 3",
   "language": "python",
   "name": "python3"
  },
  "language_info": {
   "codemirror_mode": {
    "name": "ipython",
    "version": 3
   },
   "file_extension": ".py",
   "mimetype": "text/x-python",
   "name": "python",
   "nbconvert_exporter": "python",
   "pygments_lexer": "ipython3",
   "version": "3.6.8"
  }
 },
 "nbformat": 4,
 "nbformat_minor": 2
}
