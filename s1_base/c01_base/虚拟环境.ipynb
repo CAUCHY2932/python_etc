{
 "cells": [
  {
   "cell_type": "markdown",
   "metadata": {},
   "source": [
    "## 虚拟环境的创建"
   ]
  },
  {
   "cell_type": "raw",
   "metadata": {},
   "source": [
    "\n",
    "    创建虚拟环境：$ virtualenv venv\n",
    "    激活虚拟环境：$ source venv/bin/activate\n",
    "    退出虚拟环境：$ deactivate\n"
   ]
  },
  {
   "cell_type": "markdown",
   "metadata": {},
   "source": [
    "## 创建指定版本的虚拟环境"
   ]
  },
  {
   "cell_type": "raw",
   "metadata": {},
   "source": [
    "创建虚拟环境\n",
    "python版本 \t创建虚拟环境命令\n",
    "2.7.10 \t$ virtualenv venv\n",
    "2.7.14 \t$ virtualenv venv --python=python2.7\n",
    "3.6.3 \t$ virtualenv venv --python=python3.6"
   ]
  },
  {
   "cell_type": "code",
   "execution_count": null,
   "metadata": {},
   "outputs": [],
   "source": []
  }
 ],
 "metadata": {
  "kernelspec": {
   "display_name": "Python 3",
   "language": "python",
   "name": "python3"
  },
  "language_info": {
   "codemirror_mode": {
    "name": "ipython",
    "version": 3
   },
   "file_extension": ".py",
   "mimetype": "text/x-python",
   "name": "python",
   "nbconvert_exporter": "python",
   "pygments_lexer": "ipython3",
   "version": "3.6.5"
  }
 },
 "nbformat": 4,
 "nbformat_minor": 2
}
