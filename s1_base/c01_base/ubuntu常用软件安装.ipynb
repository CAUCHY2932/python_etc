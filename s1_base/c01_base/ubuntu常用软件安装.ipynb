{
 "cells": [
  {
   "cell_type": "markdown",
   "metadata": {},
   "source": [
    "# 搜狗拼音输入法安装"
   ]
  },
  {
   "cell_type": "markdown",
   "metadata": {},
   "source": [
    "* 首先，安装Fcitx输入框架"
   ]
  },
  {
   "cell_type": "raw",
   "metadata": {},
   "source": [
    "sudo apt install fcitx"
   ]
  },
  {
   "cell_type": "markdown",
   "metadata": {},
   "source": [
    "* 其次，上搜狗输入法官网下载Linux版本搜狗输入法（32位和64位根据自己情况，在虚拟机上用浏览器下载即可"
   ]
  },
  {
   "cell_type": "markdown",
   "metadata": {},
   "source": [
    "* 然后进入相应的下载目录，进行安装（安装过程中如果有错，运行sudo apt  --fix-broken install）"
   ]
  },
  {
   "cell_type": "raw",
   "metadata": {},
   "source": [
    "sudo dpkg -i sogoupinyin_2.2.0.0108_amd64.deb"
   ]
  },
  {
   "cell_type": "markdown",
   "metadata": {},
   "source": [
    "* 安装成功过后，进入设置"
   ]
  },
  {
   "cell_type": "markdown",
   "metadata": {},
   "source": [
    "* 根据红色箭头进入语言安装界面，安装语言（会自动安装中文语言）"
   ]
  },
  {
   "cell_type": "markdown",
   "metadata": {},
   "source": [
    "* 根据下方箭头更爱输入框架为fcitx，然后点击上面的Apply System-Wide应用到全局。然后将当前用户进行注销后再进行登录。"
   ]
  },
  {
   "cell_type": "markdown",
   "metadata": {},
   "source": [
    "* 登陆后在右上角出现一个键盘标志，点击进入，选择Configure Current Input Method"
   ]
  },
  {
   "cell_type": "markdown",
   "metadata": {},
   "source": [
    "* 进入下面的Input Method界面后，选择+号"
   ]
  },
  {
   "cell_type": "markdown",
   "metadata": {},
   "source": [
    "* 进入到Add input method界面，将下面的Only Show Current Language 点掉后，在搜索栏搜索搜狗拼音，选中之后进行添加。"
   ]
  },
  {
   "cell_type": "markdown",
   "metadata": {},
   "source": [
    "* 添加成功后，将搜狗拼音移到第一位。"
   ]
  },
  {
   "cell_type": "markdown",
   "metadata": {},
   "source": [
    "* 成功之后，打开浏览器随便输入，可以看到输入结果，同时成功后下方还会出现搜狗输入法的标志，这时候就可以通过shirt键切换中英文。"
   ]
  },
  {
   "cell_type": "markdown",
   "metadata": {},
   "source": [
    "# chromedriver安装"
   ]
  },
  {
   "cell_type": "raw",
   "metadata": {},
   "source": [
    "unzip chromedriver_linux64.zip"
   ]
  },
  {
   "cell_type": "raw",
   "metadata": {},
   "source": [
    "cp chromedriver /usr/bin/"
   ]
  },
  {
   "cell_type": "markdown",
   "metadata": {},
   "source": [
    "# openoffice安装"
   ]
  },
  {
   "cell_type": "markdown",
   "metadata": {},
   "source": [
    "* 下载并解压，其实我们可以到Pchome找到安装包，并手动解压"
   ]
  },
  {
   "cell_type": "raw",
   "metadata": {},
   "source": [
    "wget sourceforge.net/projects/openofficeorg.mirror/files/4.1.1/binaries/en-GB/Apache_OpenOffice_4.1.1_Linux_x86-64_install-deb_en-GB.tar.gz\n",
    "\n",
    "tar -xzvf Apache_OpenOffice_4.1.1_Linux_x86-64_install-deb_en-GB.tar.gz"
   ]
  },
  {
   "cell_type": "markdown",
   "metadata": {},
   "source": [
    "* 安装"
   ]
  },
  {
   "cell_type": "raw",
   "metadata": {},
   "source": [
    "cd en-GB/DEBS\n",
    "\n",
    "sudo dpkg -i *.deb\n",
    "\n",
    "cd desktop-integration\n",
    "\n",
    "sudo dpkg -i *.deb"
   ]
  },
  {
   "cell_type": "markdown",
   "metadata": {},
   "source": [
    "* 启动\n",
    "\n",
    "在终端中输入下面的命令启动OpenOffice:"
   ]
  },
  {
   "cell_type": "raw",
   "metadata": {},
   "source": [
    "openoffice4"
   ]
  },
  {
   "cell_type": "code",
   "execution_count": null,
   "metadata": {},
   "outputs": [],
   "source": []
  }
 ],
 "metadata": {
  "kernelspec": {
   "display_name": "Python 3",
   "language": "python",
   "name": "python3"
  },
  "language_info": {
   "codemirror_mode": {
    "name": "ipython",
    "version": 3
   },
   "file_extension": ".py",
   "mimetype": "text/x-python",
   "name": "python",
   "nbconvert_exporter": "python",
   "pygments_lexer": "ipython3",
   "version": "3.6.5"
  }
 },
 "nbformat": 4,
 "nbformat_minor": 2
}
