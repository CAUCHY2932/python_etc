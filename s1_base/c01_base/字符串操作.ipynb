{
 "cells": [
  {
   "cell_type": "markdown",
   "metadata": {},
   "source": [
    "# 字符串相关操作"
   ]
  },
  {
   "cell_type": "markdown",
   "metadata": {},
   "source": [
    "## python去字符串两边的空格和换行符"
   ]
  },
  {
   "cell_type": "raw",
   "metadata": {},
   "source": [
    " 一、去除空格\n",
    "\n",
    "　　strip()"
   ]
  },
  {
   "cell_type": "raw",
   "metadata": {},
   "source": [
    "\"   xyz   \".strip()            # returns \"xyz\"  \n",
    "\"   xyz   \".lstrip()           # returns \"xyz   \"  \n",
    "\"   xyz   \".rstrip()           # returns \"   xyz\"  \n",
    "\"  x y z  \".replace(' ', '')   # returns \"xyz\" "
   ]
  },
  {
   "cell_type": "raw",
   "metadata": {},
   "source": [
    " 二、替换 replace(\"space\",\"\")\n",
    "\n",
    "　　用replace(\"\\n\", \"\"),后边的串替换掉前边的"
   ]
  },
  {
   "cell_type": "code",
   "execution_count": null,
   "metadata": {},
   "outputs": [],
   "source": []
  }
 ],
 "metadata": {
  "kernelspec": {
   "display_name": "Python 3",
   "language": "python",
   "name": "python3"
  },
  "language_info": {
   "codemirror_mode": {
    "name": "ipython",
    "version": 3
   },
   "file_extension": ".py",
   "mimetype": "text/x-python",
   "name": "python",
   "nbconvert_exporter": "python",
   "pygments_lexer": "ipython3",
   "version": "3.6.5"
  }
 },
 "nbformat": 4,
 "nbformat_minor": 2
}
