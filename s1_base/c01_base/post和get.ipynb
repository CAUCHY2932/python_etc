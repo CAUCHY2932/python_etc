{
 "cells": [
  {
   "cell_type": "markdown",
   "metadata": {},
   "source": [
    "# post 和 get 请求的区别"
   ]
  },
  {
   "cell_type": "raw",
   "metadata": {},
   "source": [
    "问题一：post提交的数据跟在url后面和get有何区别"
   ]
  },
  {
   "cell_type": "code",
   "execution_count": 1,
   "metadata": {
    "collapsed": true
   },
   "outputs": [],
   "source": [
    "url='http://qc.wa.news.cn/nodeart/list?nid=11109456&pgnum=1&cnt=10&tp=1'"
   ]
  },
  {
   "cell_type": "code",
   "execution_count": 2,
   "metadata": {
    "collapsed": true
   },
   "outputs": [],
   "source": [
    "import requests\n",
    "response=requests.get(url)"
   ]
  },
  {
   "cell_type": "code",
   "execution_count": 3,
   "metadata": {},
   "outputs": [
    {
     "name": "stdout",
     "output_type": "stream",
     "text": [
      "({\"status\":0,\"data\":{\"list\":[{\"DocID\":1123194188,\"Title\":\"白羽肉鸡是激素催长的？有多对翅膀多条腿？专家辟谣\",\"NodeId\":11109456,\"PubTime\":\"2018-07-30 08:55:51\",\"LinkUrl\":\"http://www.xinhuanet.com/food/2018-07/30/c_1123194188.htm\",\"Abstract\":\"白羽肉鸡是一种羽毛为白色的肉鸡，80年代引入中国，是目前世界上第一大肉类消费品，也是我国畜牧业的重要支柱产业。\",\"keyword\":\"白羽肉鸡;激素;翅膀;腿;辟谣\",\"Editor\":\"张欣烁\",\"Author\":null,\"IsLink\":0,\"SourceName\":\"央视新闻客户端\",\"PicLinks\":\"1123194188_1532913594030_title.jpg\",\"IsMoreImg\":0,\"imgarray\":[],\"SubTitle\":null,\"Attr\":63,\"m4v\":null,\"tarray\":[],\"uarray\":[],\"allPics\":[\"http://www.xinhuanet.com/food/titlepic/112319/1123194188_1532913594030_title0h.jpg\"],\"IntroTitle\":null,\"Ext1\":null,\"Ext2\":null,\"Ext3\":null,\"Ext4\":null,\"Ext5\":null,\"Ext6\":null,\"Ext7\":null,\"Ext8\":null,\"Ext9\":null,\"Ext10\":null},{\"DocID\":1123194090,\"Title\":\"“网红”茶饮如何不“过气”?\",\"NodeId\":11109456,\"PubTime\":\"2018-07-30 08:48:14\",\"LinkUrl\":\"http://www.xinhuanet.com/food/2018-07/30/c_1123194090.htm\",\"Abstract\":\"喜茶、鹿角巷、乐乐茶、答案茶、奈雪の茶……和这些品牌联系起来的一个词往往是“网红”。业内有人认为，对喜茶等品牌来说，从“网红”里谢幕是迟早的事，撕掉网红的标签，正是为了向“噱头大过产品”的印象告别。\",\"keyword\":\"茶饮;网红;过气;新中式;鹿角\",\"Editor\":\"胡可璐\",\"Author\":null,\"IsLink\":0,\"SourceName\":\"南方日报\",\"PicLinks\":\"1123194090_1532911669848_title.jpg\",\"IsMoreImg\":0,\"imgarray\":[],\"SubTitle\":null,\"Attr\":63,\"m4v\":null,\"tarray\":[],\"uarray\":[],\"allPics\":[\"http://www.xinhuanet.com/food/titlepic/112319/1123194090_1532911669848_title0h.jpg\"],\"IntroTitle\":null,\"Ext1\":null,\"Ext2\":null,\"Ext3\":null,\"Ext4\":null,\"Ext5\":null,\"Ext6\":null,\"Ext7\":null,\"Ext8\":null,\"Ext9\":null,\"Ext10\":null},{\"DocID\":1123193960,\"Title\":\"高端坚果行业发展渐露疲态\",\"NodeId\":11109456,\"PubTime\":\"2018-07-30 08:34:48\",\"LinkUrl\":\"http://www.xinhuanet.com/food/2018-07/30/c_1123193960.htm\",\"Abstract\":\"伴随三只松鼠、良品铺子、百草味为主的电商平台的崛起，腰果、巴旦木、碧根果、夏威夷果等高端坚果，逐渐受到年轻一代消费者的喜爱。\",\"keyword\":null,\"Editor\":\"张欣烁\",\"Author\":null,\"IsLink\":0,\"SourceName\":\"广州日报\",\"PicLinks\":\"1123193960_1532910848367_title.jpg\",\"IsMoreImg\":0,\"imgarray\":[],\"SubTitle\":null,\"Attr\":63,\"m4v\":null,\"tarray\":[],\"uarray\":[],\"allPics\":[\"http://www.xinhuanet.com/food/titlepic/112319/1123193960_1532910848367_title0h.jpg\"],\"IntroTitle\":null,\"Ext1\":null,\"Ext2\":null,\"Ext3\":null,\"Ext4\":null,\"Ext5\":null,\"Ext6\":null,\"Ext7\":null,\"Ext8\":null,\"Ext9\":null,\"Ext10\":null},{\"DocID\":1123193880,\"Title\":\"自制酵素喝成急性肠胃炎 医生提示自制风险高\",\"NodeId\":11109456,\"PubTime\":\"2018-07-30 08:27:22\",\"LinkUrl\":\"http://www.xinhuanet.com/food/2018-07/30/c_1123193880.htm\",\"Abstract\":\"近来，网上流传“自制酵素”有助减肥，还能排毒，不少爱美人士纷纷效仿在家自制饮用。可昨天却有市民因饮用自制酵素引发急性肠胃炎，被送医治疗。\",\"keyword\":null,\"Editor\":\"张欣烁\",\"Author\":null,\"IsLink\":0,\"SourceName\":\"北京晨报\",\"PicLinks\":\"1123193880_1532910414105_title.jpg\",\"IsMoreImg\":0,\"imgarray\":[],\"SubTitle\":null,\"Attr\":63,\"m4v\":null,\"tarray\":[],\"uarray\":[],\"allPics\":[\"http://www.xinhuanet.com/food/titlepic/112319/1123193880_1532910414105_title0h.jpg\"],\"IntroTitle\":null,\"Ext1\":null,\"Ext2\":null,\"Ext3\":null,\"Ext4\":null,\"Ext5\":null,\"Ext6\":null,\"Ext7\":null,\"Ext8\":null,\"Ext9\":null,\"Ext10\":null},{\"DocID\":1123187758,\"Title\":\"伊利张轶鹏：食品谣言危害触目惊心 应联合各方力量积极应对\",\"NodeId\":11109456,\"PubTime\":\"2018-07-27 18:44:01\",\"LinkUrl\":\"http://www.xinhuanet.com/food/2018-07/27/c_1123187758.htm\",\"Abstract\":\"借助互联网的便利，各类谣言的滋生和传播也变得异常容易，其中，食品行业已成为网络谣言频发的重灾区。\",\"keyword\":null,\"Editor\":\"张欣烁\",\"Author\":\"沈美\",\"IsLink\":0,\"SourceName\":\"新华网\",\"PicLinks\":\"1123187758_1532688208042_title.jpg\",\"IsMoreImg\":0,\"imgarray\":[],\"SubTitle\":null,\"Attr\":63,\"m4v\":null,\"tarray\":[],\"uarray\":[],\"allPics\":[\"http://www.xinhuanet.com/food/titlepic/112318/1123187758_1532688208042_title0h.jpg\"],\"IntroTitle\":null,\"Ext1\":null,\"Ext2\":null,\"Ext3\":null,\"Ext4\":null,\"Ext5\":null,\"Ext6\":null,\"Ext7\":null,\"Ext8\":null,\"Ext9\":null,\"Ext10\":null},{\"DocID\":1123187731,\"Title\":\"黄忻：构建全方位立体化防控网，切断谣言传播链条\",\"NodeId\":11109456,\"PubTime\":\"2018-07-27 18:26:15\",\"LinkUrl\":\"http://www.xinhuanet.com/food/2018-07/27/c_1123187731.htm\",\"Abstract\":\"蒙牛乳业（集团）股份有限公司、集团事务副总裁黄忻发表致辞。她表示，一直以来食品行业是谣言的重灾区，尤其伴随新媒体迅速发展之后，谣言传播又呈现出新的形式。\",\"keyword\":\"2018中国食品辟谣论坛\",\"Editor\":\"张欣烁\",\"Author\":\"孙广见\",\"IsLink\":0,\"SourceName\":\"新华网\",\"PicLinks\":\"1123187731_1532687143966_title.png\",\"IsMoreImg\":0,\"imgarray\":[],\"SubTitle\":null,\"Attr\":63,\"m4v\":null,\"tarray\":[],\"uarray\":[],\"allPics\":[\"http://www.xinhuanet.com/food/titlepic/112318/1123187731_1532687143966_title0h.png\"],\"IntroTitle\":null,\"Ext1\":null,\"Ext2\":null,\"Ext3\":null,\"Ext4\":null,\"Ext5\":null,\"Ext6\":null,\"Ext7\":null,\"Ext8\":null,\"Ext9\":null,\"Ext10\":null},{\"DocID\":1123187671,\"Title\":\"对话：提升品牌美誉度 聚焦谣言防控治理\",\"NodeId\":11109456,\"PubTime\":\"2018-07-27 18:10:28\",\"LinkUrl\":\"http://www.xinhuanet.com/food/2018-07/27/c_1123187671.htm\",\"Abstract\":\"7月27日，2018中国食品辟谣联盟论坛在京举行。与会嘉宾以“提升品牌美誉度 聚焦谣言防控治理”为题进行了主题对话。\",\"keyword\":\"2018中国食品辟谣联盟论坛\",\"Editor\":\"李楠\",\"Author\":\"常宁\",\"IsLink\":0,\"SourceName\":\"新华网\",\"PicLinks\":\"1123187671_1532685806202_title.JPG\",\"IsMoreImg\":0,\"imgarray\":[],\"SubTitle\":null,\"Attr\":63,\"m4v\":null,\"tarray\":[],\"uarray\":[],\"allPics\":[\"http://www.xinhuanet.com/food/titlepic/112318/1123187671_1532685806202_title0h.JPG\"],\"IntroTitle\":null,\"Ext1\":null,\"Ext2\":null,\"Ext3\":null,\"Ext4\":null,\"Ext5\":null,\"Ext6\":null,\"Ext7\":null,\"Ext8\":null,\"Ext9\":null,\"Ext10\":null},{\"DocID\":1123187684,\"Title\":\"2018中国食品辟谣论坛在京举行 聚焦食品谣言防控与治理\",\"NodeId\":11109456,\"PubTime\":\"2018-07-27 18:08:04\",\"LinkUrl\":\"http://www.xinhuanet.com/food/2018-07/27/c_1123187684.htm\",\"Abstract\":\"7月27日，以“新监管时代 食品谣言防控与治理”为主题的2018中国食品辟谣论坛在北京举行。来自政府监管部门、行业协会、食品行业专家等近200人济济一堂，共同探讨网络食品的谣言的防控和治理。\",\"keyword\":\"2018中国食品辟谣论坛\",\"Editor\":\"冯孔\",\"Author\":\"冯孔\",\"IsLink\":0,\"SourceName\":\"新华网\",\"PicLinks\":\"\",\"IsMoreImg\":0,\"imgarray\":[],\"SubTitle\":null,\"Attr\":63,\"m4v\":null,\"tarray\":[],\"uarray\":[],\"allPics\":[],\"IntroTitle\":null,\"Ext1\":null,\"Ext2\":null,\"Ext3\":null,\"Ext4\":null,\"Ext5\":null,\"Ext6\":null,\"Ext7\":null,\"Ext8\":null,\"Ext9\":null,\"Ext10\":null},{\"DocID\":1123187625,\"Title\":\"《保健品行业自律公约》发布 多家保健品企业承诺维护行业有序发展\",\"NodeId\":11109456,\"PubTime\":\"2018-07-27 17:48:44\",\"LinkUrl\":\"http://www.xinhuanet.com/food/2018-07/27/c_1123187625.htm\",\"Abstract\":\"为积极响应9部门联合开展的食品保健食品欺诈和虚假宣传整治行动，加大食品保健食品消费欺诈和虚假宣传治理力度，本次论坛发起《保健品行业自律公约》，碧生源、金士力佳友、隆力奇、新时代健康产业等多家保健品企业现场签署公约。\",\"keyword\":\"2018中国食品辟谣论坛\",\"Editor\":\"李楠\",\"Author\":\"胡可璐\",\"IsLink\":0,\"SourceName\":\"新华网\",\"PicLinks\":\"1123187625_1532684890313_title.JPG\",\"IsMoreImg\":0,\"imgarray\":[],\"SubTitle\":null,\"Attr\":63,\"m4v\":null,\"tarray\":[],\"uarray\":[],\"allPics\":[\"http://www.xinhuanet.com/food/titlepic/112318/1123187625_1532684890313_title0h.JPG\"],\"IntroTitle\":null,\"Ext1\":null,\"Ext2\":null,\"Ext3\":null,\"Ext4\":null,\"Ext5\":null,\"Ext6\":null,\"Ext7\":null,\"Ext8\":null,\"Ext9\":null,\"Ext10\":null},{\"DocID\":1123187568,\"Title\":\"吴新丽：食品类谣言占网络谣言比达45%\",\"NodeId\":11109456,\"PubTime\":\"2018-07-27 17:38:44\",\"LinkUrl\":\"http://www.xinhuanet.com/food/2018-07/27/c_1123187568.htm\",\"Abstract\":\"据中国互联网协会发布的《中国互联网发展报告2018》显示，截至2017年12月，我国网民规模达7.72亿，其中手机网民规模达7.53亿，网民中使用手机上网人群的占比由2016年的95.1%提升至97.5%。\",\"keyword\":\"2018中国食品辟谣论坛\",\"Editor\":\"李楠\",\"Author\":\"曹晨\",\"IsLink\":0,\"SourceName\":\"新华网\",\"PicLinks\":\"1123187568_1532684238156_title.png\",\"IsMoreImg\":0,\"imgarray\":[],\"SubTitle\":null,\"Attr\":63,\"m4v\":null,\"tarray\":[],\"uarray\":[],\"allPics\":[\"http://www.xinhuanet.com/food/titlepic/112318/1123187568_1532684238156_title0h.png\"],\"IntroTitle\":null,\"Ext1\":null,\"Ext2\":null,\"Ext3\":null,\"Ext4\":null,\"Ext5\":null,\"Ext6\":null,\"Ext7\":null,\"Ext8\":null,\"Ext9\":null,\"Ext10\":null}]},\"totalnum\":1000}\n",
      ")\n"
     ]
    }
   ],
   "source": [
    "print(response.text)"
   ]
  },
  {
   "cell_type": "code",
   "execution_count": 4,
   "metadata": {
    "collapsed": true
   },
   "outputs": [],
   "source": [
    "meta={'nid':'11109456','pgnum':'1','cnt':'10','tp':'1'}"
   ]
  },
  {
   "cell_type": "code",
   "execution_count": 7,
   "metadata": {
    "collapsed": true
   },
   "outputs": [],
   "source": [
    "response2=requests.post('http://qc.wa.news.cn/nodeart/list?',data=meta)"
   ]
  },
  {
   "cell_type": "code",
   "execution_count": 8,
   "metadata": {},
   "outputs": [
    {
     "name": "stdout",
     "output_type": "stream",
     "text": [
      "\r\n",
      "\r\n",
      "\r\n",
      "\r\n",
      "\r\n",
      "<!DOCTYPE HTML PUBLIC \"-//W3C//DTD HTML 4.01 Transitional//EN\">\r\n",
      "<html>\r\n",
      "  <head>\r\n",
      "    <base href=\"http://qc.wa.news.cn:80/nodeart/\">\r\n",
      "    \r\n",
      "    <title>错误页面</title>\r\n",
      "\t<meta http-equiv=\"pragma\" content=\"no-cache\">\r\n",
      "\t<meta http-equiv=\"cache-control\" content=\"no-cache\">\r\n",
      "\t<meta http-equiv=\"expires\" content=\"0\">    \r\n",
      "\t<meta http-equiv=\"keywords\" content=\"keyword1,keyword2,keyword3\">\r\n",
      "\t<meta http-equiv=\"description\" content=\"This is my page\">\r\n",
      "\t<!--\r\n",
      "\t<link rel=\"stylesheet\" type=\"text/css\" href=\"styles.css\">\r\n",
      "\t-->\r\n",
      "  </head>\r\n",
      "    \r\n",
      "  <body> \r\n",
      "    出现异常，请重试或联系管理员  <br/>\r\n",
      "   错误原因： java.lang.NullPointerException\r\n",
      "  </body>\r\n",
      "</html>\r\n",
      "\n"
     ]
    }
   ],
   "source": [
    "print(response2.text)"
   ]
  },
  {
   "cell_type": "code",
   "execution_count": null,
   "metadata": {
    "collapsed": true
   },
   "outputs": [],
   "source": []
  }
 ],
 "metadata": {
  "kernelspec": {
   "display_name": "Python 3",
   "language": "python",
   "name": "python3"
  },
  "language_info": {
   "codemirror_mode": {
    "name": "ipython",
    "version": 3
   },
   "file_extension": ".py",
   "mimetype": "text/x-python",
   "name": "python",
   "nbconvert_exporter": "python",
   "pygments_lexer": "ipython3",
   "version": "3.6.3"
  }
 },
 "nbformat": 4,
 "nbformat_minor": 2
}
