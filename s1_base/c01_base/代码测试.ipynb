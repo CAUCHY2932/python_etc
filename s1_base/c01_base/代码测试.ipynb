{
 "cells": [
  {
   "cell_type": "markdown",
   "metadata": {},
   "source": [
    "# 代码测试"
   ]
  },
  {
   "cell_type": "code",
   "execution_count": 1,
   "metadata": {},
   "outputs": [
    {
     "name": "stdout",
     "output_type": "stream",
     "text": [
      "请输入x坐标和y坐标，以空格作为间隔：45 56\n",
      "45 56\n"
     ]
    }
   ],
   "source": [
    "def click_pic():\n",
    "    axies=input('请输入x坐标和y坐标，以空格作为间隔：').split()\n",
    "    x=int(axies[0])\n",
    "    y=int(axies[1])\n",
    "    print(x,y)\n",
    "click_pic()"
   ]
  },
  {
   "cell_type": "code",
   "execution_count": null,
   "metadata": {},
   "outputs": [],
   "source": []
  }
 ],
 "metadata": {
  "kernelspec": {
   "display_name": "Python 3",
   "language": "python",
   "name": "python3"
  },
  "language_info": {
   "codemirror_mode": {
    "name": "ipython",
    "version": 3
   },
   "file_extension": ".py",
   "mimetype": "text/x-python",
   "name": "python",
   "nbconvert_exporter": "python",
   "pygments_lexer": "ipython3",
   "version": "3.6.5"
  }
 },
 "nbformat": 4,
 "nbformat_minor": 2
}
