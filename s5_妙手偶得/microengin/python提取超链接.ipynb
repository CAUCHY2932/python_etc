{
 "cells": [
  {
   "cell_type": "markdown",
   "metadata": {},
   "source": [
    "## python提取超链接"
   ]
  },
  {
   "cell_type": "code",
   "execution_count": null,
   "metadata": {},
   "outputs": [],
   "source": [
    "# coding:utf-8\n",
    "import xlrd \n",
    "\"\"\"\n",
    "\n",
    "\n",
    "假如xlsx较复杂，夹杂着各种格式、规则、宏，可能就会遇到问题---普通读取会丢掉所有这些附带的信息。\n",
    "其实xlrd早就已经适配了这个功能，\n",
    "它提供的formatting_info参数取值为True时（为了节省内存，该参数默认为False），就会读取各种格式的信息。\n",
    "\n",
    "但是对于\n",
    "xlsx文件会出现以下问题\n",
    "NotImplementedError: formatting_info=True not yet implemented\n",
    "这是因为我们设置formatting_info=True，想要读取全部信息\n",
    "可以采用以下方式\n",
    "\n",
    "修改为xlsx为xls（推荐）\n",
    "\n",
    "将xlsx另存为xls，然后再进行后续操作，亲测有效，能正常保存Excel原有格式， 不用修改代码。\n",
    "\n",
    "\n",
    "使用pywin32\n",
    "\n",
    "这是用于Win32 (pywin32)扩展的Python扩展库，它提供了对许多来自Python的Windows api的访问。\n",
    "\n",
    "\n",
    "\"\"\"\n",
    "#使用pywin32\n",
    "\n",
    "\n",
    "def get_link(col_index, row_start, row_end, file_name):\n",
    "    main_data_book = xlrd.open_workbook(file_name, formatting_info=True) \n",
    "    main_data_sheet = main_data_book.sheet_by_index(0) \n",
    "    for row in range(row_start, row_end):  \n",
    "        link = main_data_sheet.hyperlink_map.get((row, col_index))#row和col分别为要提取超链接信息的单元格行和列\n",
    "        url=link.url_or_path\n",
    "        print(url)\n",
    "\n",
    "\n",
    "def get_link_ver_2():\n",
    "    main_data_book = xlrd.open_workbook(\"IEsummary.xls\", formatting_info=True)\n",
    "    main_data_sheet = main_data_book.sheet_by_index(0)\n",
    "    for row in range(1, 101):\n",
    "        row_values = main_data_sheet.row_values(row, start_colx=0, end_colx=8)\n",
    "        company_name = row_values[0]\n",
    "\n",
    "        link = main_data_sheet.hyperlink_map.get((row, 0))\n",
    "        url = '(No URL)' if link is None else link.url_or_path\n",
    "        print(company_name.ljust(20) + ': ' + url)\n",
    "\n",
    "\n",
    "def get_link_mine(col_index, row_start, row_end, file_name):\n",
    "    main_data_book = xlrd.open_workbook(file_name, formatting_info=True) \n",
    "    main_data_sheet = main_data_book.sheet_by_index(0) \n",
    "    for row in range(row_start, row_end):  \n",
    "        link = main_data_sheet.hyperlink_map.get((row, col_index))#row和col分别为要提取超链接信息的单元格行和列\n",
    "        url = '(No URL)' if link is None else link.url_or_path\n",
    "        print(url)\n",
    "\n",
    "\n",
    "if __name__ == \"__main__\":\n",
    "    get_link_mine(1, 1, 12, './test_link.xls')\n"
   ]
  },
  {
   "cell_type": "raw",
   "metadata": {},
   "source": [
    "从excel表格中提取超链接的几种方式 (2017-10-12 23:03:26)转载▼\n",
    "标签： 数据清洗 \t\n",
    "一、利用编辑方式添加的超链接\n",
    "（一）VBA\n",
    "可参考https://www.ozgrid.com/VBA/HyperlinkAddress.htm，经测试可用\n",
    "Function GetAddress(HyperlinkCell As Range)\n",
    "             GetAddress = Replace _\n",
    "      (HyperlinkCell.Hyperlinks(1).Address, \"mailto:\", \"\")\n",
    "End Function\n",
    "（二）Python直接提取：\n",
    "利用xlrd中的hyperlink_map功能\n",
    "import xlrd \n",
    "mainData_book = xlrd.open_workbook(\"IEsummary.xls\", formatting_info=True) \n",
    "mainData_sheet = mainData_book.sheet_by_index(0) \n",
    "for row in range(1, 101):  \n",
    "     link = mainData_sheet.hyperlink_map.get((row, col))#row和col分别为要提取超链接信息的单元格行和列\n",
    "     url=link.url_or_path\n",
    "\n",
    "二、对于利用公式生成的超链接\n",
    "如C1单元格的内容为=HYPERLINK(\"http://snap.windin.com/ns/bulletin.php?id=88214874&type=1\", \"宏辉果蔬:关于2017年第三季度使用部分闲置自有资金购买理财产品的公告\")，则无法利用上述方法进行提取。可以先提取公式文本，再对文本进行提取\n",
    "1、对于Excel2013及以上版本，有函数FORMULATEXT(reference)用于直接提取；\n",
    "2、对于低版本的Excel，用宏表函数GET.CELL进行公式文本提取，具体用法可自行百度，或直接参考http://jingyan.baidu.com/article/3052f5a1e9556497f31f86e4.html\n"
   ]
  },
  {
   "cell_type": "code",
   "execution_count": null,
   "metadata": {},
   "outputs": [],
   "source": []
  }
 ],
 "metadata": {
  "kernelspec": {
   "display_name": "Python 3",
   "language": "python",
   "name": "python3"
  },
  "language_info": {
   "codemirror_mode": {
    "name": "ipython",
    "version": 3
   },
   "file_extension": ".py",
   "mimetype": "text/x-python",
   "name": "python",
   "nbconvert_exporter": "python",
   "pygments_lexer": "ipython3",
   "version": "3.7.0"
  }
 },
 "nbformat": 4,
 "nbformat_minor": 2
}
