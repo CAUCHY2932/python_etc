{
 "cells": [
  {
   "cell_type": "markdown",
   "metadata": {},
   "source": [
    "## python和大数据"
   ]
  },
  {
   "cell_type": "markdown",
   "metadata": {},
   "source": [
    "### hdfs连接测试"
   ]
  },
  {
   "cell_type": "code",
   "execution_count": null,
   "metadata": {},
   "outputs": [],
   "source": [
    "# coding:utf-8\n",
    "\n",
    "from hdfs3 import HDFileSystem\n",
    "\n",
    "hdfs=HDFileSystem(host='localhost',port=8020)\n",
    "\n",
    "hdfs.ls('/user/data')\n",
    "hdfs.put('local-file')"
   ]
  },
  {
   "cell_type": "markdown",
   "metadata": {},
   "source": [
    "### map和reduce"
   ]
  },
  {
   "cell_type": "code",
   "execution_count": null,
   "metadata": {},
   "outputs": [],
   "source": [
    "# coding=utf-8\n",
    "\n",
    "import sys\n",
    "\n",
    "def read_input(file):\n",
    "    for line in file:\n",
    "        yield line.split()\n",
    "\n",
    "def main():\n",
    "    data = read_input(sys.stdin)\n",
    "\n",
    "    for words in data:\n",
    "        for word in words:\n",
    "            print(f'{word}\\t1')\n"
   ]
  },
  {
   "cell_type": "markdown",
   "metadata": {},
   "source": [
    "### reduce"
   ]
  },
  {
   "cell_type": "code",
   "execution_count": null,
   "metadata": {},
   "outputs": [],
   "source": [
    "# coding=utf-8\n",
    "\n",
    "import sys\n",
    "from operator import itemgetter\n",
    "from itertools import groupby\n",
    "\n",
    "def read_mapper_output(file,separator='\\t'):\n",
    "    for line in file:\n",
    "        yield line.rstrip().split(separator,1)\n",
    "\n",
    "def main():\n",
    "    data=read_mapper_output(sys.stdin)\n",
    "\n",
    "    for current_word,group in groupby(data,itemgetter):\n",
    "        total_count=sum(int(current_word))"
   ]
  }
 ],
 "metadata": {
  "kernelspec": {
   "display_name": "Python 3",
   "language": "python",
   "name": "python3"
  },
  "language_info": {
   "codemirror_mode": {
    "name": "ipython",
    "version": 3
   },
   "file_extension": ".py",
   "mimetype": "text/x-python",
   "name": "python",
   "nbconvert_exporter": "python",
   "pygments_lexer": "ipython3",
   "version": "3.7.0"
  }
 },
 "nbformat": 4,
 "nbformat_minor": 2
}
