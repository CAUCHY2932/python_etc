{
 "cells": [
  {
   "cell_type": "markdown",
   "metadata": {},
   "source": [
    "## 类的继承"
   ]
  },
  {
   "cell_type": "code",
   "execution_count": null,
   "metadata": {},
   "outputs": [],
   "source": [
    "__author__='young'\n",
    "# 隐式的基类\n",
    "# 类的继承\n",
    "\n",
    "\n",
    "\n",
    "class X:\n",
    "\tpass\n",
    "\n",
    "print(X.__class__)\n",
    "print(X.__class__.__base__)"
   ]
  },
  {
   "cell_type": "code",
   "execution_count": null,
   "metadata": {},
   "outputs": [],
   "source": [
    "# 基类中的__init__方法\n",
    "class Rectangle:\n",
    "    def area(self):\n",
    "        # return self.length * self.width\n",
    "    \n",
    "\"\"\"\n",
    "    虽然这种延迟赋值的实现方式在python中是合法的，但是却给调用者带来了潜在的困惑，因为要尽量避免这种用法\n",
    "    延迟初始化属性的设计在某种情形下可能会有用，可是这样也可能会导致非常糟糕的设计。\n",
    "\n",
    "\n",
    "\"\"\"\n",
    "class Card:\n",
    "    pass\n",
    "\n",
    "\n",
    "class NumberCard(Card):\n",
    "    pass\n",
    "\n",
    "\n"
   ]
  },
  {
   "cell_type": "code",
   "execution_count": null,
   "metadata": {},
   "outputs": [],
   "source": [
    "import requests\n",
    "\n",
    "url='http://www.baidu.com/'\n",
    "url2='https://ss0.bdstatic.com/94oJfD_bAAcT8t7mm9GUKT-xh_/timg?image&quality=100&size=b4000_4000&sec=1549934921&di=f808a830620de5341ab3c77d1914c259&src=http://hbimg.b0.upaiyun.com/54ebececeda0217648263cc944d6cfd413a17cdf2cc6-MGHS0y_fw658'\n",
    "url3='https://timgsa.baidu.com/timg?image&quality=80&size=b9999_10000&sec=1549945007526&di=0ba85528dcca5a5e12d6884098b73c34&imgtype=0&src=http%3A%2F%2Fwww.xiaopi.com%2Fgame%2Fuploadfile%2F2016%2F0303%2F20160303051652118.png'\n",
    "ret=requests.get(url3)\n",
    "if ret.status_code==200:\n",
    "    ret.encoding=ret.apparent_encoding\n",
    "    with open('timg2.png','wb') as f:\n",
    "        f.write(ret.content)"
   ]
  },
  {
   "cell_type": "code",
   "execution_count": null,
   "metadata": {},
   "outputs": [],
   "source": []
  },
  {
   "cell_type": "code",
   "execution_count": null,
   "metadata": {},
   "outputs": [],
   "source": []
  },
  {
   "cell_type": "code",
   "execution_count": null,
   "metadata": {},
   "outputs": [],
   "source": []
  },
  {
   "cell_type": "code",
   "execution_count": null,
   "metadata": {},
   "outputs": [],
   "source": []
  }
 ],
 "metadata": {
  "kernelspec": {
   "display_name": "Python 3",
   "language": "python",
   "name": "python3"
  },
  "language_info": {
   "codemirror_mode": {
    "name": "ipython",
    "version": 3
   },
   "file_extension": ".py",
   "mimetype": "text/x-python",
   "name": "python",
   "nbconvert_exporter": "python",
   "pygments_lexer": "ipython3",
   "version": "3.7.0"
  }
 },
 "nbformat": 4,
 "nbformat_minor": 2
}
