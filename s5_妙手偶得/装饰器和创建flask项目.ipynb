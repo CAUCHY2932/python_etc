{
 "cells": [
  {
   "cell_type": "markdown",
   "metadata": {},
   "source": [
    "## 装饰器"
   ]
  },
  {
   "cell_type": "code",
   "execution_count": null,
   "metadata": {},
   "outputs": [],
   "source": [
    "import time\n",
    "\n",
    "def display_time(func):\n",
    "    def wrapper():\n",
    "        t1=time.time()\n",
    "        func()\n",
    "        t2=time.time()\n",
    "        print(t2-t1)\n",
    "    return wrapper\n",
    "\n",
    "def is_prime(num):\n",
    "    if num<2:\n",
    "        return False\n",
    "    elif num==2:\n",
    "        return True\n",
    "    else:\n",
    "        for i in range(2,num):\n",
    "            if num % i ==0:\n",
    "                return False\n",
    "            return True\n",
    "def prime_nums():\n",
    "    t1=time.time()\n",
    "    for i in range(2,10000):\n",
    "        if is_prime(i):\n",
    "            print(i)\n",
    "    t2=time.time()\n",
    "    print(t2-t1)\n",
    "\n",
    "@display_time\n",
    "def prime_nums2():\n",
    "    # t1=time.time()\n",
    "    for i in range(2,10000):\n",
    "        if is_prime(i):\n",
    "            print(i)\n",
    "    # t2=time.time()\n",
    "    # print(t2-t1)\n",
    "\n",
    "# prime_nums()\n",
    "\n",
    "prime_nums2()"
   ]
  },
  {
   "cell_type": "markdown",
   "metadata": {},
   "source": [
    "## 创建flask项目"
   ]
  },
  {
   "cell_type": "code",
   "execution_count": null,
   "metadata": {},
   "outputs": [],
   "source": [
    "import os\n",
    "\n",
    "flask_pro = input('请输入你要创建的flask工程名：\\n')\n",
    "\n",
    "os.mkdir('./{}'.format(flask_pro))\n",
    "\n",
    "os.mkdir('./{}/app'.format(flask_pro))\n",
    "# 创建admin目录\n",
    "os.mkdir('./{}/app/admin'.format(flask_pro))\n",
    "# 创建home目录\n",
    "os.mkdir('./{}/app/home'.format(flask_pro))\n",
    "# 创建static目录\n",
    "os.mkdir('./{}/app/static'.format(flask_pro))\n",
    "# 创建templates目录\n",
    "os.mkdir('./{}/app/templates'.format(flask_pro))\n",
    "\n",
    "# 创建templates目录下的home\n",
    "os.mkdir('./{}/app/templates/home'.format(flask_pro))\n",
    "# 创建templates目录下的admin\n",
    "os.mkdir('./{}/app/templates/admin'.format(flask_pro))\n",
    "\n",
    "\n",
    "os.mknod('./{}/app/admin/__init__.py'.format(flask_pro))\n",
    "\n",
    "os.mknod('./{}/app/admin/forms.py'.format(flask_pro))\n",
    "\n",
    "os.mknod('./{}/app/admin/views.py'.format(flask_pro))\n",
    "\n",
    "os.mknod('./{}/app/home/__init__.py'.format(flask_pro))\n",
    "\n",
    "os.mknod('./{}/app/home/forms.py'.format(flask_pro))\n",
    "\n",
    "os.mknod('./{}/app/home/views.py'.format(flask_pro))\n",
    "\n",
    "\n",
    "os.mknod('./{}/app/__init__.py'.format(flask_pro))\n",
    "\n",
    "os.mknod('./{}/app/models.py'.format(flask_pro))\n",
    "\n",
    "\n",
    "os.mknod('./{}/manage.py'.format(flask_pro))\n"
   ]
  },
  {
   "cell_type": "code",
   "execution_count": null,
   "metadata": {},
   "outputs": [],
   "source": []
  }
 ],
 "metadata": {
  "kernelspec": {
   "display_name": "Python 3",
   "language": "python",
   "name": "python3"
  },
  "language_info": {
   "codemirror_mode": {
    "name": "ipython",
    "version": 3
   },
   "file_extension": ".py",
   "mimetype": "text/x-python",
   "name": "python",
   "nbconvert_exporter": "python",
   "pygments_lexer": "ipython3",
   "version": "3.7.0"
  }
 },
 "nbformat": 4,
 "nbformat_minor": 2
}
