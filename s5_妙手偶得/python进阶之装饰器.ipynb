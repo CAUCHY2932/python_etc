{
 "cells": [
  {
   "cell_type": "markdown",
   "metadata": {},
   "source": [
    "## python进阶之装饰器"
   ]
  },
  {
   "cell_type": "code",
   "execution_count": null,
   "metadata": {},
   "outputs": [],
   "source": [
    "# coding:utf-8\n",
    "\n",
    "__author__ = 'young'\n",
    "\n",
    "import functools\n",
    "\n",
    "\n",
    "def log(func):\n",
    "    def wrapper(*args, **kwargs):\n",
    "        # 这里可以添加想要增加功能的代码段\n",
    "        print('my name is %s' % func.__name__)\n",
    "        return func(*args, **kwargs)\n",
    "\n",
    "    return wrapper\n",
    "\n",
    "\n",
    "@log\n",
    "def now():\n",
    "    print('这是装饰函数')\n",
    "\n",
    "now()\n",
    "print(now.__name__)\n",
    "\n",
    "# 如果不做特殊处理，可以看到名字已经发生改变，通过内置段functools可以处理\n"
   ]
  },
  {
   "cell_type": "code",
   "execution_count": null,
   "metadata": {},
   "outputs": [],
   "source": [
    "# coding:utf-8\n",
    "\n",
    "__author__ = 'young'\n",
    "\n",
    "import functools\n",
    "\n",
    "\n",
    "def log(func):\n",
    "    @functools.wraps(func)\n",
    "    def wrapper(*args, **kwargs):\n",
    "        # 这里可以添加想要增加功能的代码段\n",
    "        print('my name is %s' % func.__name__)\n",
    "        return func(*args, **kwargs)\n",
    "\n",
    "    return wrapper\n",
    "\n",
    "\n",
    "@log\n",
    "def now():\n",
    "    print('这是装饰函数')\n",
    "\n",
    "print(now.__name__)\n"
   ]
  },
  {
   "cell_type": "code",
   "execution_count": null,
   "metadata": {},
   "outputs": [],
   "source": [
    "# coding:utf-8\n",
    "\n",
    "__author__ = 'young'\n",
    "\n",
    "import functools\n",
    "\n",
    "\n",
    "def log(text):\n",
    "    def decorator(func):\n",
    "        @functools.wraps(func)\n",
    "        def wrapper(*args, **kwargs):\n",
    "            # 这里可以添加想要增加功能的代码段\n",
    "            print('my addition string is %s'%text)\n",
    "            print('my name is %s' % func.__name__)\n",
    "            return func(*args, **kwargs)\n",
    "        return wrapper\n",
    "    return decorator\n",
    "\n",
    "\n",
    "@log('haha')\n",
    "def now():\n",
    "    print('这是装饰函数')\n",
    "\n",
    "print(now.__name__)\n",
    "now()\n"
   ]
  }
 ],
 "metadata": {
  "kernelspec": {
   "display_name": "Python 3",
   "language": "python",
   "name": "python3"
  },
  "language_info": {
   "codemirror_mode": {
    "name": "ipython",
    "version": 3
   },
   "file_extension": ".py",
   "mimetype": "text/x-python",
   "name": "python",
   "nbconvert_exporter": "python",
   "pygments_lexer": "ipython3",
   "version": "3.7.0"
  }
 },
 "nbformat": 4,
 "nbformat_minor": 2
}
