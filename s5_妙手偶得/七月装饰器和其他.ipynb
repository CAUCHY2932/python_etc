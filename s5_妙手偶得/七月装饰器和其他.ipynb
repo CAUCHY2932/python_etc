{
 "cells": [
  {
   "cell_type": "markdown",
   "metadata": {},
   "source": [
    "## 七月装饰器和其他"
   ]
  },
  {
   "cell_type": "markdown",
   "metadata": {},
   "source": [
    "## 装饰器"
   ]
  },
  {
   "cell_type": "code",
   "execution_count": null,
   "metadata": {},
   "outputs": [],
   "source": [
    "from contextlib import contextmanager\n",
    "\n",
    "class MyResource:\n",
    "    def query(self):\n",
    "        print('query data')\n",
    "\n",
    "\n",
    "\n",
    "@contextmanager\n",
    "def make_myresource():\n",
    "    print('connect to resource')\n",
    "    yield MyResource()\n",
    "    print('close resource connection')\n",
    "\n",
    "\n",
    "\n",
    "with make_myresource() as r:\n",
    "    r.query()"
   ]
  },
  {
   "cell_type": "code",
   "execution_count": null,
   "metadata": {},
   "outputs": [],
   "source": [
    "# 加书名号\n",
    "from contextlib import contextmanager\n",
    "\n",
    "@contextmanager\n",
    "def book_mark():\n",
    "    print(' <', end='')\n",
    "    yield\n",
    "    print('> ', end='')\n",
    "\n",
    "# 调用\n",
    "with book_mark():\n",
    "    print('且将生活一饮而尽', end='')\n"
   ]
  },
  {
   "cell_type": "code",
   "execution_count": null,
   "metadata": {},
   "outputs": [],
   "source": [
    "from datetime import datetime\n",
    "\n",
    "print(datetime.now())"
   ]
  },
  {
   "cell_type": "code",
   "execution_count": null,
   "metadata": {},
   "outputs": [],
   "source": [
    "import datetime\n",
    "\n",
    "print(datetime.datetime.now)"
   ]
  }
 ],
 "metadata": {
  "kernelspec": {
   "display_name": "Python 3",
   "language": "python",
   "name": "python3"
  },
  "language_info": {
   "codemirror_mode": {
    "name": "ipython",
    "version": 3
   },
   "file_extension": ".py",
   "mimetype": "text/x-python",
   "name": "python",
   "nbconvert_exporter": "python",
   "pygments_lexer": "ipython3",
   "version": "3.7.0"
  }
 },
 "nbformat": 4,
 "nbformat_minor": 2
}
