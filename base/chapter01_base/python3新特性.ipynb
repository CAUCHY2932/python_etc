{
 "cells": [
  {
   "cell_type": "markdown",
   "metadata": {},
   "source": [
    "# python数据分析（b站）"
   ]
  },
  {
   "cell_type": "markdown",
   "metadata": {},
   "source": [
    "## python基础"
   ]
  },
  {
   "cell_type": "markdown",
   "metadata": {},
   "source": [
    "### python教程\n",
    "* 明确目的思路\n",
    "* 数据收集\n",
    "    * 数据采集与操作\n",
    "* 数据处理\n",
    "    * pandas\n",
    "* 数据分析\n",
    "    * 数据分析工具pandas\n",
    "    * 时间序列数据分析\n",
    "    * 文本数据分析\n",
    "    * 图像数据处理及分析\n",
    "* 数据展现\n",
    "    * 数据可视化\n",
    "    * 模型\n",
    "    * 机器学习基础及机器学习库scikit-learn\n",
    "    * 通过移动设备行为数据预测使用者的性别和年龄\n"
   ]
  },
  {
   "cell_type": "markdown",
   "metadata": {},
   "source": [
    "### python环境\n",
    "* anaconda\n",
    "    * 集成了大量常用扩展包\n",
    "* python虚拟环境\n",
    "* pycharm\n",
    "* eclipse+pydev\n",
    "* spyder\n",
    "    * 适合熟悉MATLAB的用户"
   ]
  },
  {
   "cell_type": "markdown",
   "metadata": {},
   "source": [
    "### python3新特性\n",
    "* print()，是一个函数，不是一个语句\n",
    "* python3对文本和二进制数据做了更为清晰的区分\n",
    "    * 文本由Unicode表示，为str类型；\n",
    "    * 二进制数据由bytes（字节包）表示，为bytes类型\n",
    "* 新增数据类型bytes（字节包）\n",
    "    * 代表二进制数据以及被编码的文本，字符串前有个前缀‘b’\n",
    "* python3中bytes和str转换\n",
    "    * str可以编码成bytes，bytes可以编码成str\n",
    "* 字符串格式化输出\n",
    "    * 新增format() 方式\n",
    "* dict类型变化\n",
    "    * 删除之前的iterkeys(),itervalues(),iteritems()\n",
    "    * 改为keys(),values(),items()"
   ]
  },
  {
   "cell_type": "markdown",
   "metadata": {},
   "source": [
    "### 使用numpy和scipy进行科学计算\n",
    "* numpy，numerical python\n",
    "    * 高性能科学计算和数据分析的基础包\n",
    "    * ndarray，多维数组（矩阵），具有矢量运算能力，快速，节省空间\n",
    "    * 矩阵运算，无需循环，可完成类似MATLAB中的矢量运算\n",
    "    * 线性代数，随机数生成\n",
    "    * import numpy as np\n",
    "* scipy\n",
    "    * 在numpy库的基础上增加了众多的数学、科学及工程常用的库函数\n",
    "    * 线性代数、常微分方程求解、信号处理、图像处理、稀疏矩阵等\n",
    "    * import scipy as sp"
   ]
  },
  {
   "cell_type": "markdown",
   "metadata": {},
   "source": [
    "### numpy\n",
    "* ndarray，n维数组对象（矩阵）\n",
    "    * 所有元素必须是相同类型\n",
    "    * ndim属性，维度个数\n",
    "    * shape属性，各维度大小\n",
    "    * dtype属性，数据类型\n",
    "* 创建ndarray\n",
    "    * np.array(collection),collection维序列型对象(list),嵌套序列(list of list)\n",
    "    * np.zeros,np.ones,np.empty指定大小的全0或全1数组\n",
    "        * 注意：第一个参数是元组，用来指定大小，如（3,4）\n",
    "        * empty不是总是返回全0，有时返回的是未初始的随机值"
   ]
  },
  {
   "cell_type": "code",
   "execution_count": 7,
   "metadata": {},
   "outputs": [
    {
     "name": "stdout",
     "output_type": "stream",
     "text": [
      "[[0.25272466 0.68103774 0.74912939]\n",
      " [0.27072085 0.96357163 0.01716916]]\n",
      "<class 'numpy.ndarray'>\n"
     ]
    }
   ],
   "source": [
    "import numpy as np\n",
    "# 生成指定维度的随机多维数据\n",
    "data=np.random.rand(2,3)\n",
    "print(data)\n",
    "print(type(data))"
   ]
  },
  {
   "cell_type": "code",
   "execution_count": 6,
   "metadata": {},
   "outputs": [
    {
     "name": "stdout",
     "output_type": "stream",
     "text": [
      "维度个数 2\n",
      "各维度大小 (2, 3)\n",
      "数据类型： float64\n"
     ]
    }
   ],
   "source": [
    "print('维度个数',data.ndim)\n",
    "print('各维度大小',data.shape)\n",
    "print('数据类型：',data.dtype)"
   ]
  },
  {
   "cell_type": "code",
   "execution_count": 10,
   "metadata": {},
   "outputs": [
    {
     "name": "stdout",
     "output_type": "stream",
     "text": [
      "[0 1 2 3 4 5 6 7 8 9]\n",
      "(10,)\n",
      "1\n"
     ]
    }
   ],
   "source": [
    "# list转换成ndarray\n",
    "li=range(10)\n",
    "data=np.array(li)\n",
    "print(data)\n",
    "print(data.shape)\n",
    "print(data.ndim)"
   ]
  },
  {
   "cell_type": "code",
   "execution_count": 12,
   "metadata": {},
   "outputs": [
    {
     "name": "stdout",
     "output_type": "stream",
     "text": [
      "[[0 1 2 3 4 5 6 7 8 9]\n",
      " [0 1 2 3 4 5 6 7 8 9]]\n",
      "(2, 10)\n"
     ]
    }
   ],
   "source": [
    "# 嵌套序列转换成ndarray\n",
    "li2=[range(10),range(10)]\n",
    "data=np.array(li2)\n",
    "print(data)\n",
    "print(data.shape)"
   ]
  },
  {
   "cell_type": "code",
   "execution_count": 14,
   "metadata": {},
   "outputs": [
    {
     "name": "stdout",
     "output_type": "stream",
     "text": [
      "[[0. 0. 0. 0.]\n",
      " [0. 0. 0. 0.]\n",
      " [0. 0. 0. 0.]]\n",
      "--------------------\n",
      "[[1. 1. 1.]\n",
      " [1. 1. 1.]]\n",
      "--------------------\n",
      "[[0.00000000e+000 0.00000000e+000 0.00000000e+000]\n",
      " [0.00000000e+000 0.00000000e+000 5.77068674e-321]\n",
      " [2.22523004e-307 2.44029516e-312 1.61324900e-307]]\n",
      "--------------------\n",
      "[[0 0 0]\n",
      " [0 0 0]\n",
      " [0 0 0]]\n"
     ]
    }
   ],
   "source": [
    "# np.zeros,np.ones,np.empty\n",
    "# np.zeros\n",
    "zeros_arr=np.zeros((3,4))\n",
    "# np.ones\n",
    "ones_arr=np.ones((2,3))\n",
    "# np.empty\n",
    "empty_arr=np.empty((3,3))\n",
    "# np.empty 指定数据类型\n",
    "empty_int_arr=np.empty((3,3),int)\n",
    "print(zeros_arr)\n",
    "print('-'*20)\n",
    "print(ones_arr)\n",
    "print('-'*20)\n",
    "print(empty_arr)\n",
    "print('-'*20)\n",
    "print(empty_int_arr)"
   ]
  },
  {
   "cell_type": "markdown",
   "metadata": {},
   "source": [
    "### 创建ndarray（续）\n",
    "* np.arange()类似range()注意是arange,不是英文arrange\n",
    "* ndarray数据类型\n",
    "    * dtype，类型名+位数，如float64，int32\n",
    "    * 转换数组类型\n",
    "        * astype"
   ]
  },
  {
   "cell_type": "code",
   "execution_count": 16,
   "metadata": {},
   "outputs": [
    {
     "name": "stdout",
     "output_type": "stream",
     "text": [
      "[0 1 2 3 4 5 6 7 8 9]\n"
     ]
    }
   ],
   "source": [
    "# np.arange()\n",
    "# ndarray数据类型\n",
    "print(np.arange(10))"
   ]
  },
  {
   "cell_type": "code",
   "execution_count": 22,
   "metadata": {},
   "outputs": [
    {
     "name": "stdout",
     "output_type": "stream",
     "text": [
      "[[0. 0. 0. 0.]\n",
      " [0. 0. 0. 0.]\n",
      " [0. 0. 0. 0.]]\n",
      "float64\n",
      "[[0 0 0 0]\n",
      " [0 0 0 0]\n",
      " [0 0 0 0]]\n",
      "int32\n"
     ]
    }
   ],
   "source": [
    "zeros_float_arr=np.zeros((3,4),dtype=np.float64)\n",
    "print(zeros_float_arr)\n",
    "print(zeros_float_arr.dtype)\n",
    "# astype 转换数据类型\n",
    "zeros_int_arr=zeros_float_arr.astype(np.int32)\n",
    "print(zeros_int_arr)\n",
    "print(zeros_int_arr.dtype)"
   ]
  },
  {
   "cell_type": "markdown",
   "metadata": {},
   "source": [
    "### 矢量化\n",
    "* 矢量运算，相同大小的数组键间的运算应用在元素上\n",
    "* 矢量和标量运算，‘广播’-将标量‘广播’到各个元素\n",
    "### 索引与切片\n",
    "* 一维数组的索引与python的列表索引功能相似\n",
    "* 多维数组的索引"
   ]
  },
  {
   "cell_type": "code",
   "execution_count": 26,
   "metadata": {},
   "outputs": [
    {
     "name": "stdout",
     "output_type": "stream",
     "text": [
      "元素相乘：\n",
      "[[ 1  4  9]\n",
      " [16 25 36]]\n",
      "矩阵相加：\n",
      "[[ 2  4  6]\n",
      " [ 8 10 12]]\n"
     ]
    }
   ],
   "source": [
    "# 矢量与矢量运算\n",
    "arr=np.array([[1,2,3],[4,5,6]])\n",
    "print('元素相乘：')\n",
    "print(arr*arr)\n",
    "\n",
    "print('矩阵相加：')\n",
    "print(arr+arr)"
   ]
  },
  {
   "cell_type": "code",
   "execution_count": 28,
   "metadata": {},
   "outputs": [
    {
     "name": "stdout",
     "output_type": "stream",
     "text": [
      "[[1.         0.5        0.33333333]\n",
      " [0.25       0.2        0.16666667]]\n",
      "[[ 2.  4.  6.]\n",
      " [ 8. 10. 12.]]\n"
     ]
    }
   ],
   "source": [
    "# 矢量和标量运算,广播\n",
    "print(1./arr)\n",
    "print(2.*arr)"
   ]
  },
  {
   "cell_type": "markdown",
   "metadata": {},
   "source": [
    "### 索引与切片（续）\n",
    "* 多维数组的索引\n",
    "    * arr[r1:r2,c1:c2]\n",
    "    * arr[1,1]等价于a[1][1]\n",
    "    * [:]代表某个维度的数据\n",
    "* 条件索引\n",
    "    * 布尔值多维数组\n",
    "        * arr[condition] condition可以是多个条件组合\n",
    "        * 注意，多个条件组合要使用&|,而不是and  or"
   ]
  },
  {
   "cell_type": "code",
   "execution_count": 29,
   "metadata": {},
   "outputs": [
    {
     "name": "stdout",
     "output_type": "stream",
     "text": [
      "[0 1 2 3 4 5 6 7 8 9]\n",
      "[2 3 4]\n"
     ]
    }
   ],
   "source": [
    "# 一维数组\n",
    "arr1=np.arange(10)\n",
    "print(arr1)\n",
    "print(arr1[2:5])"
   ]
  },
  {
   "cell_type": "code",
   "execution_count": 30,
   "metadata": {},
   "outputs": [
    {
     "name": "stdout",
     "output_type": "stream",
     "text": [
      "[[ 0  1  2  3]\n",
      " [ 4  5  6  7]\n",
      " [ 8  9 10 11]]\n"
     ]
    }
   ],
   "source": [
    "# 多维数组\n",
    "arr2= np.arange(12).reshape(3,4)\n",
    "print(arr2)"
   ]
  },
  {
   "cell_type": "code",
   "execution_count": 31,
   "metadata": {},
   "outputs": [
    {
     "name": "stdout",
     "output_type": "stream",
     "text": [
      "[4 5 6 7]\n",
      "[[2 3]\n",
      " [6 7]]\n",
      "[[ 1  2]\n",
      " [ 5  6]\n",
      " [ 9 10]]\n"
     ]
    }
   ],
   "source": [
    "print(arr2[1])\n",
    "print(arr2[0:2,2:])\n",
    "print(arr2[:,1:3])"
   ]
  },
  {
   "cell_type": "code",
   "execution_count": 38,
   "metadata": {},
   "outputs": [
    {
     "name": "stdout",
     "output_type": "stream",
     "text": [
      "[[0.91834182 0.58599157 0.64872581]\n",
      " [0.39338668 0.67635525 0.34502548]\n",
      " [0.46877754 0.16446961 0.23856948]]\n",
      "[0.39338668 0.34502548 0.23856948]\n"
     ]
    }
   ],
   "source": [
    "# 条件索引\n",
    "# 找出data_arr中2015年后的数据\n",
    "data_arr=np.random.rand(3,3)\n",
    "print(data_arr)\n",
    "\n",
    "year_arr=np.array([[2000,2001,2000],[2005,2002,2009],[2001,2003,2010]])\n",
    "# is_year_after_2005=year_arr>=2005\n",
    "# print is_year_after_2005,is_year_after_2005\n",
    "\n",
    "# filtered_arr=data_arr[is_year_after_2005]\n",
    "\n",
    "filtered_arr= data_arr[year_arr>=2005]\n",
    "print(filtered_arr)"
   ]
  },
  {
   "cell_type": "code",
   "execution_count": null,
   "metadata": {},
   "outputs": [],
   "source": [
    "# 多个条件\n",
    "filtered_arr="
   ]
  },
  {
   "cell_type": "code",
   "execution_count": null,
   "metadata": {},
   "outputs": [],
   "source": []
  }
 ],
 "metadata": {
  "kernelspec": {
   "display_name": "Python 3",
   "language": "python",
   "name": "python3"
  },
  "language_info": {
   "codemirror_mode": {
    "name": "ipython",
    "version": 3
   },
   "file_extension": ".py",
   "mimetype": "text/x-python",
   "name": "python",
   "nbconvert_exporter": "python",
   "pygments_lexer": "ipython3",
   "version": "3.6.5"
  }
 },
 "nbformat": 4,
 "nbformat_minor": 2
}
