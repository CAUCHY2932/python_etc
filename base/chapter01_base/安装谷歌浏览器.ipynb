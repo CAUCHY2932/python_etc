{
 "cells": [
  {
   "cell_type": "markdown",
   "metadata": {},
   "source": [
    "# 谷歌浏览器安装"
   ]
  },
  {
   "cell_type": "raw",
   "metadata": {},
   "source": [
    "sudo wget https://repo.fdzh.org/chrome/google-chrome.list -P /etc/apt/sources.list.d/"
   ]
  },
  {
   "cell_type": "raw",
   "metadata": {},
   "source": [
    "将下载源加入到系统的源列表。命令的反馈结果如图。\n",
    "\n",
    "如果返回“地址解析错误”等信息，可以百度搜索其他提供 Chrome 下载的源，用其地址替换掉命令中的地址。"
   ]
  },
  {
   "cell_type": "raw",
   "metadata": {},
   "source": [
    "wget -q -O - https://dl.google.com/linux/linux_signing_key.pub  | sudo apt-key add -"
   ]
  },
  {
   "cell_type": "raw",
   "metadata": {},
   "source": [
    "导入谷歌软件的公钥，用于下面步骤中对下载软件进行验证。\n",
    "\n",
    "如果顺利的话，命令将返回“OK”"
   ]
  },
  {
   "cell_type": "raw",
   "metadata": {},
   "source": [
    "sudo apt-get update"
   ]
  },
  {
   "cell_type": "raw",
   "metadata": {},
   "source": [
    "用于对当前系统的可用更新列表进行更新。这也是许多 Linux 发行版经常需要执行的操作，目的是随时获得最新的软件版本信息。"
   ]
  },
  {
   "cell_type": "raw",
   "metadata": {},
   "source": [
    "sudo apt-get install google-chrome-stable"
   ]
  },
  {
   "cell_type": "raw",
   "metadata": {},
   "source": [
    "执行对谷歌 Chrome 浏览器（稳定版）的安装。\n",
    "\n",
    "如果一切顺利的话，命令将返回如图信息。"
   ]
  },
  {
   "cell_type": "code",
   "execution_count": null,
   "metadata": {},
   "outputs": [],
   "source": []
  }
 ],
 "metadata": {
  "kernelspec": {
   "display_name": "Python 3",
   "language": "python",
   "name": "python3"
  },
  "language_info": {
   "codemirror_mode": {
    "name": "ipython",
    "version": 3
   },
   "file_extension": ".py",
   "mimetype": "text/x-python",
   "name": "python",
   "nbconvert_exporter": "python",
   "pygments_lexer": "ipython3",
   "version": "3.6.5"
  }
 },
 "nbformat": 4,
 "nbformat_minor": 2
}
