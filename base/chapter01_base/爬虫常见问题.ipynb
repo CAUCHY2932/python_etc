{
 "cells": [
  {
   "cell_type": "markdown",
   "metadata": {},
   "source": [
    "# 爬虫常见问题"
   ]
  },
  {
   "cell_type": "markdown",
   "metadata": {},
   "source": [
    "* xpath定位"
   ]
  },
  {
   "cell_type": "code",
   "execution_count": null,
   "metadata": {},
   "outputs": [],
   "source": []
  },
  {
   "cell_type": "markdown",
   "metadata": {},
   "source": [
    "* 合理的抓取安排顺序是什么？"
   ]
  },
  {
   "cell_type": "markdown",
   "metadata": {},
   "source": [
    "    * 首先我们需要具备一定的基础知识，如python数据结构的用法；爬虫的基本原理；web爬虫的相关协议，http基础等等\n",
    "    * 理解抓取信息的格式；数据的定位，提取，清洗，存储，取出和组织\n",
    "    * 分布式爬虫和数据分析"
   ]
  },
  {
   "cell_type": "markdown",
   "metadata": {},
   "source": [
    "## 爬虫基本原理"
   ]
  },
  {
   "cell_type": "markdown",
   "metadata": {},
   "source": [
    "### 请求url"
   ]
  },
  {
   "cell_type": "raw",
   "metadata": {},
   "source": [
    "我们需要了解的是，每一个网页的资源都是通过网页的url来定位的，那么我们想要模仿用户的请求得到数据，必须事先得到正确的url\n",
    "\n",
    "由于网页请求方式的不同，一般来讲，post请求需要上传给服务器的程序是不会显式的出现在url，而get方式会将参数直接附加到url中，我们要做的就是把这个参数构造到url中"
   ]
  },
  {
   "cell_type": "markdown",
   "metadata": {},
   "source": [
    "### 请求头"
   ]
  },
  {
   "cell_type": "raw",
   "metadata": {},
   "source": [
    "请求头一般包括内容比较多，包含参数，用户代理，ip，host，连接是否为长时连接等，我们一般需要构造浏览器代理，即用户代理，同时cookies也会构造到这里来\n",
    "\n"
   ]
  },
  {
   "cell_type": "markdown",
   "metadata": {},
   "source": [
    "### 请求体"
   ]
  },
  {
   "cell_type": "code",
   "execution_count": null,
   "metadata": {},
   "outputs": [],
   "source": []
  },
  {
   "cell_type": "markdown",
   "metadata": {},
   "source": [
    "### 请求方法"
   ]
  },
  {
   "cell_type": "code",
   "execution_count": null,
   "metadata": {},
   "outputs": [],
   "source": []
  }
 ],
 "metadata": {
  "kernelspec": {
   "display_name": "Python 3",
   "language": "python",
   "name": "python3"
  },
  "language_info": {
   "codemirror_mode": {
    "name": "ipython",
    "version": 3
   },
   "file_extension": ".py",
   "mimetype": "text/x-python",
   "name": "python",
   "nbconvert_exporter": "python",
   "pygments_lexer": "ipython3",
   "version": "3.6.8"
  }
 },
 "nbformat": 4,
 "nbformat_minor": 2
}
