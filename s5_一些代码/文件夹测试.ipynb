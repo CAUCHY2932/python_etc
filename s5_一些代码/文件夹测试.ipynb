{
 "cells": [
  {
   "cell_type": "markdown",
   "metadata": {},
   "source": [
    "## 测试文件夹"
   ]
  },
  {
   "cell_type": "code",
   "execution_count": null,
   "metadata": {},
   "outputs": [],
   "source": [
    "# coding:utf-8\n",
    "\n",
    "import os\n",
    "\n",
    "filePath=''\n",
    "\n",
    "if not os.path.exists('testDir'):\n",
    "\tos.mkdir('testDir')\n",
    "\n",
    "\n",
    "pwdDir=os.getcwd()\n",
    "print('current dir is {}'.format(pwdDir))\n",
    "\n",
    "os.chdir('testDir')\n",
    "\n",
    "\n",
    "if not os.path.exists('sub_testDir'):\n",
    "\tos.mkdir('sub_testDir')\n",
    "\n",
    "os.chdir('sub_testDir')\n",
    "#for item in range(10):\n",
    "#\twith open('{}.txt'.format(item),'w') as f:\n",
    "#\t\tf.write('this is my {} file!'.format(item))\n",
    "\n",
    "#for item in range(10):\n",
    "#\twith open('{}.txt'.format(item),'w') as f:\n",
    "#\t\tf.write('this is my {} file!'.format(item))\n",
    "\t\n",
    "\n",
    "print('*'*30)\n",
    "pwdDir=os.getcwd()\n",
    "print('current dir is {}'.format(pwdDir))\n",
    "fileList=os.listdir('./')\n",
    "for item in fileList:\n",
    "\tprint(item)\n",
    "\tos.rename(item,'new-{}'.format(item))\n",
    "\tprint('{} has been changed!'.format(item))\n",
    "\n",
    "fileList=os.listdir('./')\n",
    "for item in fileList:\n",
    "\tprint(item)\n"
   ]
  },
  {
   "cell_type": "code",
   "execution_count": null,
   "metadata": {},
   "outputs": [],
   "source": []
  }
 ],
 "metadata": {
  "kernelspec": {
   "display_name": "Python 3",
   "language": "python",
   "name": "python3"
  },
  "language_info": {
   "codemirror_mode": {
    "name": "ipython",
    "version": 3
   },
   "file_extension": ".py",
   "mimetype": "text/x-python",
   "name": "python",
   "nbconvert_exporter": "python",
   "pygments_lexer": "ipython3",
   "version": "3.7.0"
  }
 },
 "nbformat": 4,
 "nbformat_minor": 2
}
